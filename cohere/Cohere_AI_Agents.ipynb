{
  "nbformat": 4,
  "nbformat_minor": 0,
  "metadata": {
    "colab": {
      "provenance": [],
      "authorship_tag": "ABX9TyPUvlLjsMA6xiOrZSBQkji/",
      "include_colab_link": true
    },
    "kernelspec": {
      "name": "python3",
      "display_name": "Python 3"
    },
    "language_info": {
      "name": "python"
    }
  },
  "cells": [
    {
      "cell_type": "markdown",
      "metadata": {
        "id": "view-in-github",
        "colab_type": "text"
      },
      "source": [
        "<a href=\"https://colab.research.google.com/github/ggsmith842/AIML-tutorials/blob/main/cohere/Cohere_AI_Agents.ipynb\" target=\"_parent\"><img src=\"https://colab.research.google.com/assets/colab-badge.svg\" alt=\"Open In Colab\"/></a>"
      ]
    },
    {
      "cell_type": "code",
      "source": [
        "!pip install cohere -Uq"
      ],
      "metadata": {
        "id": "hg5WWbOK8JjV"
      },
      "execution_count": 14,
      "outputs": []
    },
    {
      "cell_type": "code",
      "source": [
        "import cohere\n",
        "import json\n",
        "from google.colab import userdata\n",
        "from typing import List, Dict"
      ],
      "metadata": {
        "id": "Ex23pHVo8NtX"
      },
      "execution_count": 15,
      "outputs": []
    },
    {
      "cell_type": "code",
      "source": [
        "co = cohere.ClientV2(api_key=userdata.get(\"COHERE_API\"))"
      ],
      "metadata": {
        "id": "Q0034_3c8yOH"
      },
      "execution_count": 16,
      "outputs": []
    },
    {
      "cell_type": "markdown",
      "source": [
        "# Creating Tools\n",
        "\n"
      ],
      "metadata": {
        "id": "mn3AIDXb8_73"
      }
    },
    {
      "cell_type": "code",
      "source": [
        "def search_faqs(query: str) -> List[Dict]:\n",
        "  \"\"\"\n",
        "  Given a query, returns a list of dictionaries.\n",
        "  \"\"\"\n",
        "  faqs = [\n",
        "      {\n",
        "          \"text\":\"Reimbursing Travel Expenses: Easily manage your travel expenses by submitting them through our finance tool. Approvals are prompt and straightforward.\"\n",
        "      },\n",
        "      {\n",
        "        \"text\": \"Working from Abroad: Working remotely from another country is possible. Simply coordinate with your manager and ensure your availability during core hours.\"\n",
        "      }\n",
        "  ]\n",
        "  return faqs"
      ],
      "metadata": {
        "id": "dWrGILTp8-R4"
      },
      "execution_count": 17,
      "outputs": []
    },
    {
      "cell_type": "code",
      "source": [
        "def search_emails(query: str) -> List[Dict]:\n",
        "    emails = [\n",
        "        {\n",
        "            \"from\": \"it@co1t.com\",\n",
        "            \"to\": \"david@co1t.com\",\n",
        "            \"date\": \"2024-06-24\",\n",
        "            \"subject\": \"Set Up Your IT\",\n",
        "            \"text\": \"Greetings! To ensure a seamless start, please refer to the attached comprehensive guide, which will assist you in setting up all your work accounts.\",\n",
        "        },\n",
        "        {\n",
        "            \"from\": \"john@co1t.com\",\n",
        "            \"to\": \"david@co1t.com\",\n",
        "            \"date\": \"2024-06-24\",\n",
        "            \"subject\": \"First Week Check-In\",\n",
        "            \"text\": \"Hello! I hope you're settling in well. Let's connect briefly tomorrow to discuss how your first week has been going. Also, make sure to join us for a welcoming lunch this Thursday at noon—it's a great opportunity to get to know your colleagues!\",\n",
        "        },\n",
        "    ]\n",
        "    return emails"
      ],
      "metadata": {
        "id": "Yk1KuIkBAGFE"
      },
      "execution_count": 18,
      "outputs": []
    },
    {
      "cell_type": "code",
      "source": [
        "def create_calendar_event(date: str, time: str, duration: int) -> Dict:\n",
        "  return {\n",
        "      \"is_success\": True,\n",
        "      \"message\": f\"Create a {duration} hour long event at {time} on {date}\"\n",
        "  }\n",
        "\n",
        "functions_map = {\n",
        "    \"search_faqs\": search_faqs,\n",
        "    \"search_emails\": search_emails,\n",
        "    \"create_calendar_event\": create_calendar_event\n",
        "}"
      ],
      "metadata": {
        "id": "Z6fW1gNHCtKQ"
      },
      "execution_count": 19,
      "outputs": []
    },
    {
      "cell_type": "code",
      "source": [
        "# Define the tools\n",
        "tools = [\n",
        "    {\n",
        "        \"type\": \"function\",\n",
        "        \"function\": {\n",
        "            \"name\": \"search_faqs\",\n",
        "            \"description\": \"Given a user query, searches a company's frequently asked questions (FAQs) list and returns the most relevant matches to the query.\",\n",
        "            \"parameters\": {\n",
        "                \"type\": \"object\",\n",
        "                \"properties\": {\n",
        "                    \"query\": {\n",
        "                        \"type\": \"string\",\n",
        "                        \"description\": \"The query from the user\",\n",
        "                    }\n",
        "                },\n",
        "                \"required\": [\"query\"],\n",
        "            },\n",
        "        },\n",
        "    },\n",
        "    {\n",
        "        \"type\": \"function\",\n",
        "        \"function\": {\n",
        "            \"name\": \"search_emails\",\n",
        "            \"description\": \"Given a user query, searches a person's emails and returns the most relevant matches to the query.\",\n",
        "            \"parameters\": {\n",
        "                \"type\": \"object\",\n",
        "                \"properties\": {\n",
        "                    \"query\": {\n",
        "                        \"type\": \"string\",\n",
        "                        \"description\": \"The query from the user\",\n",
        "                    }\n",
        "                },\n",
        "                \"required\": [\"query\"],\n",
        "            },\n",
        "        },\n",
        "    },\n",
        "    {\n",
        "        \"type\": \"function\",\n",
        "        \"function\": {\n",
        "            \"name\": \"create_calendar_event\",\n",
        "            \"description\": \"Creates a new calendar event of the specified duration at the specified time and date. A new event cannot be created on the same time as an existing event.\",\n",
        "            \"parameters\": {\n",
        "                \"type\": \"object\",\n",
        "                \"properties\": {\n",
        "                    \"date\": {\n",
        "                        \"type\": \"string\",\n",
        "                        \"description\": \"the date on which the event starts, formatted as mm/dd/yy\",\n",
        "                    },\n",
        "                    \"time\": {\n",
        "                        \"type\": \"string\",\n",
        "                        \"description\": \"the time of the event, formatted using 24h military time formatting\",\n",
        "                    },\n",
        "                    \"duration\": {\n",
        "                        \"type\": \"number\",\n",
        "                        \"description\": \"the number of hours the event lasts for\",\n",
        "                    },\n",
        "                },\n",
        "                \"required\": [\"date\", \"time\", \"duration\"],\n",
        "            },\n",
        "        },\n",
        "    },\n",
        "]\n"
      ],
      "metadata": {
        "id": "7qxYrCrKGf6a"
      },
      "execution_count": 20,
      "outputs": []
    },
    {
      "cell_type": "markdown",
      "source": [
        "# Tool-use Workflow"
      ],
      "metadata": {
        "id": "mrt0EHNGHQ5d"
      }
    },
    {
      "cell_type": "code",
      "source": [
        "# set system message\n",
        "system_msg = \"\"\"\n",
        "  ## Task and Context\n",
        "  You are an assistant who helps new employees of Colt with their first week.\n",
        "  \"\"\"\n",
        "\n",
        "# Get user message\n",
        "message = \"Are there any messages about getting setup with IT?\"\n",
        "\n",
        "messages = [\n",
        "    {\"role\": \"system\", \"content\": system_msg},\n",
        "    {\"role\": \"user\", \"content\": message}\n",
        "]\n",
        "\n",
        "# tool planning and calling\n",
        "resp = co.chat(\n",
        "    model=\"command-a-03-2025\", messages=messages, tools=tools\n",
        ")"
      ],
      "metadata": {
        "id": "JvuOzkbvHO95"
      },
      "execution_count": 21,
      "outputs": []
    },
    {
      "cell_type": "code",
      "source": [
        "if resp.message.tool_calls:\n",
        "  print(\"Tool Plan:\")\n",
        "  print(resp.message.tool_plan, \"\\n\")\n",
        "  print(\"Tool calls:\")\n",
        "  for tc in resp.message.tool_calls:\n",
        "    print(\n",
        "        f\"Tool name: {tc.function.name} | Parameters: {tc.function.arguments}\"\n",
        "    )\n",
        "\n",
        "  messages.append(\n",
        "      {\n",
        "          \"role\": \"assistant\",\n",
        "          \"tool_calls\": resp.message.tool_calls,\n",
        "          \"tool_plan\": resp.message.tool_plan\n",
        "      }\n",
        "  )"
      ],
      "metadata": {
        "colab": {
          "base_uri": "https://localhost:8080/"
        },
        "id": "SuTGa6H5QG5U",
        "outputId": "704cd3a2-0868-4519-f6ce-6cba68a7eb1a"
      },
      "execution_count": 22,
      "outputs": [
        {
          "output_type": "stream",
          "name": "stdout",
          "text": [
            "Tool Plan:\n",
            "I'll search the FAQs for 'getting setup with IT'. \n",
            "\n",
            "Tool calls:\n",
            "Tool name: search_faqs | Parameters: {\"query\":\"getting setup with IT\"}\n"
          ]
        }
      ]
    },
    {
      "cell_type": "markdown",
      "source": [
        "# Tool Execution"
      ],
      "metadata": {
        "id": "qarL6M1ISUs_"
      }
    },
    {
      "cell_type": "code",
      "source": [
        "for tc in resp.message.tool_calls:\n",
        "  tool_result = functions_map[tc.function.name](\n",
        "      **json.loads(tc.function.arguments)\n",
        "  )\n",
        "  tool_content = []\n",
        "  for data in tool_result:\n",
        "    tool_content.append(\n",
        "        {\n",
        "            \"type\": \"document\",\n",
        "            \"document\": {\"data\": json.dumps(data)},\n",
        "        }\n",
        "    )\n",
        "\n",
        "  messages.append(\n",
        "      {\n",
        "          \"role\":\"tool\",\n",
        "          \"tool_call_id\": tc.id,\n",
        "          \"content\": tool_content\n",
        "      }\n",
        "\n",
        "  )\n",
        "\n",
        "  print(\"Tool Results:\")\n",
        "  for result in tool_content:\n",
        "    print(result)"
      ],
      "metadata": {
        "colab": {
          "base_uri": "https://localhost:8080/"
        },
        "id": "TIv9pWEnSWiO",
        "outputId": "910c4a7f-4699-47ae-e79e-96c322840196"
      },
      "execution_count": 23,
      "outputs": [
        {
          "output_type": "stream",
          "name": "stdout",
          "text": [
            "Tool Results:\n",
            "{'type': 'document', 'document': {'data': '{\"text\": \"Reimbursing Travel Expenses: Easily manage your travel expenses by submitting them through our finance tool. Approvals are prompt and straightforward.\"}'}}\n",
            "{'type': 'document', 'document': {'data': '{\"text\": \"Working from Abroad: Working remotely from another country is possible. Simply coordinate with your manager and ensure your availability during core hours.\"}'}}\n"
          ]
        }
      ]
    },
    {
      "cell_type": "markdown",
      "source": [
        "# Response and citation generation"
      ],
      "metadata": {
        "id": "RdUoN6rpTJ1U"
      }
    },
    {
      "cell_type": "code",
      "source": [
        "resp = co.chat(\n",
        "    model=\"command-a-03-2025\", messages=messages, tools=tools\n",
        ")\n",
        "\n",
        "# Append assistant response to the chat history\n",
        "messages.append(\n",
        "    {\"role\": \"assistant\", \"content\": resp.message.content[0].text}\n",
        ")"
      ],
      "metadata": {
        "id": "2eqDpKJPTJOM"
      },
      "execution_count": 24,
      "outputs": []
    },
    {
      "cell_type": "code",
      "source": [
        "# Print final response\n",
        "print(\"Response:\")\n",
        "print(resp.message.content[0].text)\n",
        "print(\"=\" * 50)\n",
        "\n",
        "# Print citations (if any)\n",
        "if resp.message.citations:\n",
        "    print(\"\\nCITATIONS:\")\n",
        "    for citation in resp.message.citations:\n",
        "        print(citation, \"\\n\")"
      ],
      "metadata": {
        "colab": {
          "base_uri": "https://localhost:8080/"
        },
        "id": "Xrv8luYuTsH7",
        "outputId": "0ce05bbf-8f7b-4adb-95dc-70588dc8602a"
      },
      "execution_count": 25,
      "outputs": [
        {
          "output_type": "stream",
          "name": "stdout",
          "text": [
            "Response:\n",
            "I'm afraid I couldn't find any information about getting set up with IT.\n",
            "==================================================\n"
          ]
        }
      ]
    },
    {
      "cell_type": "markdown",
      "source": [
        "# Multi-step Tool Use\n",
        "\n",
        "Execute tasks that require tool calls to happen in a sequence."
      ],
      "metadata": {
        "id": "0uRVMeYhUFZK"
      }
    },
    {
      "cell_type": "code",
      "source": [
        "model = \"command-a-03-2025\"\n",
        "\n",
        "system_message = \"\"\"## Task and Context\n",
        "You are an assistant who assists new employees of Co1t with their first week. You respond to their questions and assist them with their needs. Today is Monday, June 24, 2024\"\"\"\n",
        "\n",
        "\n",
        "def run_assistant(query, messages=None):\n",
        "    if messages is None:\n",
        "        messages = []\n",
        "\n",
        "    if \"system\" not in {m.get(\"role\") for m in messages}:\n",
        "        messages.append({\"role\": \"system\", \"content\": system_message})\n",
        "\n",
        "    # Step 1: get user message\n",
        "    print(f\"Question:\\n{query}\")\n",
        "    print(\"=\" * 50)\n",
        "\n",
        "    messages.append({\"role\": \"user\", \"content\": query})\n",
        "\n",
        "    # Step 2: Generate tool calls (if any)\n",
        "    response = co.chat(model=model, messages=messages, tools=tools)\n",
        "\n",
        "    while response.message.tool_calls:\n",
        "\n",
        "        print(\"Tool plan:\")\n",
        "        print(response.message.tool_plan, \"\\n\")\n",
        "        print(\"Tool calls:\")\n",
        "        for tc in response.message.tool_calls:\n",
        "            print(\n",
        "                f\"Tool name: {tc.function.name} | Parameters: {tc.function.arguments}\"\n",
        "            )\n",
        "        print(\"=\" * 50)\n",
        "\n",
        "        messages.append(\n",
        "            {\n",
        "                \"role\": \"assistant\",\n",
        "                \"tool_calls\": response.message.tool_calls,\n",
        "                \"tool_plan\": response.message.tool_plan,\n",
        "            }\n",
        "        )\n",
        "\n",
        "        # Step 3: Get tool results\n",
        "        for idx, tc in enumerate(response.message.tool_calls):\n",
        "            tool_result = functions_map[tc.function.name](\n",
        "                **json.loads(tc.function.arguments)\n",
        "            )\n",
        "            tool_content = []\n",
        "            for data in tool_result:\n",
        "                tool_content.append(\n",
        "                    {\n",
        "                        \"type\": \"document\",\n",
        "                        \"document\": {\"data\": json.dumps(data)},\n",
        "                    }\n",
        "                )\n",
        "                # Optional: add an \"id\" field in the \"document\" object, otherwise IDs are auto-generated\n",
        "            messages.append(\n",
        "                {\n",
        "                    \"role\": \"tool\",\n",
        "                    \"tool_call_id\": tc.id,\n",
        "                    \"content\": tool_content,\n",
        "                }\n",
        "            )\n",
        "\n",
        "        # Step 4: Generate response and citations\n",
        "        response = co.chat(\n",
        "            model=model, messages=messages, tools=tools\n",
        "        )\n",
        "\n",
        "    messages.append(\n",
        "        {\n",
        "            \"role\": \"assistant\",\n",
        "            \"content\": response.message.content[0].text,\n",
        "        }\n",
        "    )\n",
        "\n",
        "    # Print final response\n",
        "    print(\"Response:\")\n",
        "    print(response.message.content[0].text)\n",
        "    print(\"=\" * 50)\n",
        "\n",
        "    # Print citations (if any)\n",
        "    if response.message.citations:\n",
        "        print(\"\\nCITATIONS:\")\n",
        "        for citation in response.message.citations:\n",
        "            print(citation, \"\\n\")\n",
        "\n",
        "    return messages\n"
      ],
      "metadata": {
        "id": "0u-1yMF2lBus"
      },
      "execution_count": 28,
      "outputs": []
    },
    {
      "cell_type": "code",
      "source": [
        "messages = run_assistant(\n",
        "    \"Can you check if there are any lunch invites, and for those days, create a one-hour event on my calendar at 12PM.\"\n",
        ")\n"
      ],
      "metadata": {
        "colab": {
          "base_uri": "https://localhost:8080/"
        },
        "id": "H8DyoT5CqGJ5",
        "outputId": "f4d130f1-6ee8-48d4-af09-d72fbe59e8a7"
      },
      "execution_count": 29,
      "outputs": [
        {
          "output_type": "stream",
          "name": "stdout",
          "text": [
            "Question:\n",
            "Can you check if there are any lunch invites, and for those days, create a one-hour event on my calendar at 12PM.\n",
            "==================================================\n",
            "Tool plan:\n",
            "I'll search for lunch invites in the user's emails, and then create a one-hour event on their calendar at 12pm for each day that has a lunch invite. \n",
            "\n",
            "Tool calls:\n",
            "Tool name: search_emails | Parameters: {\"query\":\"lunch invites\"}\n",
            "==================================================\n",
            "Tool plan:\n",
            "I've found a lunch invite for Thursday. I'll now create a one-hour event on the user's calendar at 12pm for Thursday 27th June 2024. \n",
            "\n",
            "Tool calls:\n",
            "Tool name: create_calendar_event | Parameters: {\"date\":\"06/27/24\",\"time\":\"12:00\",\"duration\":1.0}\n",
            "==================================================\n",
            "Response:\n",
            "I've found a lunch invite for Thursday and created a one-hour event on your calendar at 12pm for that day.\n",
            "==================================================\n",
            "\n",
            "CITATIONS:\n",
            "start=30 end=38 text='Thursday' sources=[ToolSource(type='tool', id='search_emails_xe00kjt9xhb5:1', tool_output={'date': '2024-06-24', 'from': 'john@co1t.com', 'subject': 'First Week Check-In', 'text': \"Hello! I hope you're settling in well. Let's connect briefly tomorrow to discuss how your first week has been going. Also, make sure to join us for a welcoming lunch this Thursday at noon—it's a great opportunity to get to know your colleagues!\", 'to': 'david@co1t.com'})] type='TEXT_CONTENT' \n",
            "\n"
          ]
        }
      ]
    }
  ]
}