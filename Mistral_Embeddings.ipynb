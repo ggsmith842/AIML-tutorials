{
  "nbformat": 4,
  "nbformat_minor": 0,
  "metadata": {
    "colab": {
      "provenance": [],
      "authorship_tag": "ABX9TyN4BRJqGXG3GO6Rum84ZDaV",
      "include_colab_link": true
    },
    "kernelspec": {
      "name": "python3",
      "display_name": "Python 3"
    },
    "language_info": {
      "name": "python"
    }
  },
  "cells": [
    {
      "cell_type": "markdown",
      "metadata": {
        "id": "view-in-github",
        "colab_type": "text"
      },
      "source": [
        "<a href=\"https://colab.research.google.com/github/ggsmith842/pytorch-tutorials/blob/main/Mistral_Embeddings.ipynb\" target=\"_parent\"><img src=\"https://colab.research.google.com/assets/colab-badge.svg\" alt=\"Open In Colab\"/></a>"
      ]
    },
    {
      "cell_type": "code",
      "execution_count": null,
      "metadata": {
        "id": "59scmPB1m4tl"
      },
      "outputs": [],
      "source": [
        "%pip install mistralai datasets ipywidgets -Uq"
      ]
    },
    {
      "cell_type": "code",
      "source": [
        "import os\n",
        "import time\n",
        "import nltk\n",
        "import torch\n",
        "import torch.nn as nn\n",
        "import torch.optim as optim\n",
        "\n",
        "import numpy as np\n",
        "import matplotlib.pyplot as plt\n",
        "\n",
        "\n",
        "from tqdm import tqdm\n",
        "from time import sleep\n",
        "from mistralai import Mistral\n",
        "from google.colab import userdata\n",
        "from string import punctuation\n",
        "from collections import Counter\n",
        "from nltk.corpus import stopwords\n",
        "from datasets import load_dataset, concatenate_datasets\n",
        "from torch.utils.data import DataLoader, TensorDataset"
      ],
      "metadata": {
        "id": "S8A5Hz6fn9ix"
      },
      "execution_count": 3,
      "outputs": []
    },
    {
      "cell_type": "code",
      "source": [
        "from sklearn.decomposition import PCA\n",
        "import altair as alt"
      ],
      "metadata": {
        "id": "UfhcHIjjxB8e"
      },
      "execution_count": 28,
      "outputs": []
    },
    {
      "cell_type": "code",
      "source": [
        "device = torch.device('cuda' if torch.cuda.is_available() else 'cpu')\n",
        "print(device)"
      ],
      "metadata": {
        "colab": {
          "base_uri": "https://localhost:8080/"
        },
        "id": "UZ4SizHjn7vn",
        "outputId": "ed10c412-d989-4bed-b473-7fb5b4efa1ff"
      },
      "execution_count": 4,
      "outputs": [
        {
          "output_type": "stream",
          "name": "stdout",
          "text": [
            "cpu\n"
          ]
        }
      ]
    },
    {
      "cell_type": "code",
      "source": [
        "# load imdb dataset from huggingface\n",
        "ds = load_dataset(\"stanfordnlp/imdb\")"
      ],
      "metadata": {
        "id": "8i10vaLKn6F1"
      },
      "execution_count": 8,
      "outputs": []
    },
    {
      "cell_type": "code",
      "source": [
        "merged_dataset = concatenate_datasets([ds['train'], ds['test']])\n",
        "split_dataset = merged_dataset.train_test_split(test_size=0.25, shuffle=True, seed=42)\n",
        "\n",
        "train = split_dataset['train']\n",
        "test = split_dataset['test']"
      ],
      "metadata": {
        "id": "YQw2VRMCn3m7"
      },
      "execution_count": 9,
      "outputs": []
    },
    {
      "cell_type": "code",
      "source": [
        "def get_embeddings_by_chunk(data, chunk_size):\n",
        "  client = Mistral(userdata.get('MISTRAL_API_KEY'))\n",
        "  chunks = [data[x: x + chunk_size] for x in range(0, len(data), chunk_size)]\n",
        "  embeddings_resp = []\n",
        "  for c in tqdm(chunks):\n",
        "    embeddings_resp.append(client.embeddings.create(model='mistral-embed', inputs = c))\n",
        "    sleep(2)\n",
        "  return [d.embedding for e in embeddings_resp for d in e.data]"
      ],
      "metadata": {
        "id": "LY5AfTM6nU1O"
      },
      "execution_count": 12,
      "outputs": []
    },
    {
      "cell_type": "code",
      "source": [
        "train_embeddings = get_embeddings_by_chunk(train['text'][:3000], 150)\n",
        "test_embeddings = get_embeddings_by_chunk(test['text'][:300], 150)"
      ],
      "metadata": {
        "id": "RVxGLKRnnWi-"
      },
      "execution_count": 14,
      "outputs": []
    },
    {
      "cell_type": "code",
      "source": [
        "train_dataset = TensorDataset(\n",
        "    torch.from_numpy(np.array(train_embeddings)).float().to(device),\n",
        "    torch.from_numpy(np.array(train['label'][:3000])).float().to(device)\n",
        ")\n",
        "\n",
        "test_dataset = TensorDataset(\n",
        "    torch.from_numpy(np.array(test_embeddings)).float().to(device),\n",
        "    torch.from_numpy(np.array(test['label'][:300])).float().to(device)\n",
        ")"
      ],
      "metadata": {
        "id": "DGtknHkxt2Ft"
      },
      "execution_count": 50,
      "outputs": []
    },
    {
      "cell_type": "code",
      "source": [
        "train_dataloader = DataLoader(\n",
        "    train_dataset,\n",
        "    batch_size=32,\n",
        "    shuffle=True\n",
        ")\n",
        "\n",
        "test_dataloader = DataLoader(\n",
        "    test_dataset,\n",
        "    batch_size = 32,\n",
        "    shuffle = True\n",
        ")"
      ],
      "metadata": {
        "id": "13bmJ9wKteW3"
      },
      "execution_count": 51,
      "outputs": []
    },
    {
      "cell_type": "code",
      "source": [
        "train_data_features, train_labels = next(iter(train_dataloader))\n",
        "print(f'Example Input Size: {train_data_features.size()}')\n",
        "print(f'Example Input:\\n {train_data_features}\\n')\n",
        "\n",
        "print(f'Example Output Size: {train_labels.size()}')\n",
        "print(f'Example Output:\\n {train_labels}')"
      ],
      "metadata": {
        "colab": {
          "base_uri": "https://localhost:8080/"
        },
        "id": "xH2ZsmfancH-",
        "outputId": "554a9d8f-5966-4143-a86e-270c260db2fc"
      },
      "execution_count": 52,
      "outputs": [
        {
          "output_type": "stream",
          "name": "stdout",
          "text": [
            "Example Input Size: torch.Size([32, 1024])\n",
            "Example Input:\n",
            " tensor([[-0.0516,  0.0179,  0.0342,  ..., -0.0093,  0.0040, -0.0022],\n",
            "        [-0.0499,  0.0158,  0.0440,  ...,  0.0110, -0.0060, -0.0232],\n",
            "        [-0.0050,  0.0148,  0.0416,  ..., -0.0082, -0.0077, -0.0276],\n",
            "        ...,\n",
            "        [-0.0256,  0.0092,  0.0081,  ..., -0.0243,  0.0072,  0.0152],\n",
            "        [-0.0211,  0.0359,  0.0274,  ..., -0.0246,  0.0153, -0.0188],\n",
            "        [-0.0382,  0.0211,  0.0370,  ...,  0.0066, -0.0110, -0.0024]])\n",
            "\n",
            "Example Output Size: torch.Size([32])\n",
            "Example Output:\n",
            " tensor([0., 0., 0., 1., 0., 0., 0., 0., 1., 0., 0., 1., 0., 0., 0., 0., 0., 0.,\n",
            "        0., 1., 1., 0., 1., 1., 1., 0., 0., 1., 1., 0., 0., 1.])\n"
          ]
        }
      ]
    },
    {
      "cell_type": "code",
      "source": [
        "pca = PCA(n_components=10)\n",
        "pc_embeds = pca.fit_transform(train_embeddings)"
      ],
      "metadata": {
        "id": "utCx7JK4w_SE"
      },
      "execution_count": 29,
      "outputs": []
    },
    {
      "cell_type": "code",
      "source": [
        "import seaborn as sns\n",
        "import pandas as pd"
      ],
      "metadata": {
        "id": "0e0DumOsyBV-"
      },
      "execution_count": 42,
      "outputs": []
    },
    {
      "cell_type": "code",
      "source": [
        "sns.heatmap(pd.DataFrame(pc_embeds).head(10))"
      ],
      "metadata": {
        "colab": {
          "base_uri": "https://localhost:8080/",
          "height": 448
        },
        "id": "m2Jj7B-wxv0-",
        "outputId": "49c3c7bc-6600-4623-cb02-0c8766777db1"
      },
      "execution_count": 41,
      "outputs": [
        {
          "output_type": "execute_result",
          "data": {
            "text/plain": [
              "<Axes: >"
            ]
          },
          "metadata": {},
          "execution_count": 41
        },
        {
          "output_type": "display_data",
          "data": {
            "text/plain": [
              "<Figure size 640x480 with 2 Axes>"
            ],
            "image/png": "[encoded data removed]"
          },
          "metadata": {}
        }
      ]
    },
    {
      "source": [
        "from matplotlib import pyplot as plt\n",
        "pd.DataFrame(train['label'][:3000])[0].plot(kind='hist', bins=4, title=0)\n",
        "plt.gca().spines[['top', 'right',]].set_visible(False)"
      ],
      "cell_type": "code",
      "metadata": {
        "colab": {
          "base_uri": "https://localhost:8080/",
          "height": 430
        },
        "id": "YfHH3YUo1Lg4",
        "outputId": "fae253c0-7f78-41bf-84f5-df5206d0b4f7"
      },
      "execution_count": 64,
      "outputs": [
        {
          "output_type": "display_data",
          "data": {
            "text/plain": [
              "<Figure size 640x480 with 1 Axes>"
            ],
            "image/png": "[encoded data removed]"
          },
          "metadata": {}
        }
      ]
    },
    {
      "cell_type": "code",
      "source": [
        "# create dataloaders\n",
        "train_dataloader = DataLoader(\n",
        "    train_dataset,\n",
        "    batch_size = 32,\n",
        "    shuffle = True\n",
        ")\n",
        "\n",
        "test_dataloader = DataLoader(\n",
        "    test_dataset,\n",
        "    batch_size = 32,\n",
        "    shuffle = True\n",
        ")"
      ],
      "metadata": {
        "id": "oKWjLZ68na9-"
      },
      "execution_count": 43,
      "outputs": []
    },
    {
      "cell_type": "code",
      "source": [
        "def accuracy_metric(predictions, labels):\n",
        "  \"\"\"Returns 0-1 accuracy for the given set of predictions and labels\"\"\"\n",
        "  rounded_predictions = torch.round(torch.sigmoid(predictions))\n",
        "  success = (rounded_predictions == labels).float()\n",
        "  return success.sum() / len(success)"
      ],
      "metadata": {
        "id": "R7zdfFFQnyMa"
      },
      "execution_count": 44,
      "outputs": []
    },
    {
      "cell_type": "code",
      "source": [
        "def training_loop(model, dataloader, optim, loss_func):\n",
        "  loss = 0\n",
        "  accuracy = 0\n",
        "  model.train()\n",
        "\n",
        "  for seq, sentiment in dataloader:\n",
        "    optim.zero_grad()\n",
        "    predictions = model(seq).squeeze()\n",
        "    loss_curr = loss_func(predictions,sentiment)\n",
        "    accuracy_curr = accuracy_metric(predictions, sentiment)\n",
        "    loss_curr.backward()\n",
        "    optim.step()\n",
        "    loss += loss_curr.item()\n",
        "    accuracy += accuracy_curr.item()\n",
        "  return loss/len(dataloader), accuracy/len(dataloader)\n",
        "\n",
        "def validate(model, dataloader, loss_func):\n",
        "  loss = 0\n",
        "  accuracy = 0\n",
        "  model.eval()\n",
        "  with torch.no_grad():\n",
        "    for seq, sentiment in dataloader:\n",
        "      predictions = model(seq).squeeze()\n",
        "      loss_curr = loss_func(predictions,sentiment)\n",
        "      accuracy_curr = accuracy_metric(predictions, sentiment)\n",
        "      loss += loss_curr.item()\n",
        "      accuracy += accuracy_curr.item()\n",
        "  return loss/len(dataloader), accuracy/len(dataloader)"
      ],
      "metadata": {
        "id": "1U7IXVMTnEzG"
      },
      "execution_count": 45,
      "outputs": []
    },
    {
      "cell_type": "code",
      "source": [
        "class FFNClassifier(nn.Module):\n",
        "    def __init__(self, input_dim, hidden_dim, output_dim):\n",
        "        super().__init__()\n",
        "        self.fc1 = nn.Linear(input_dim, hidden_dim)\n",
        "        self.relu = nn.ReLU()\n",
        "        self.fc2 = nn.Linear(hidden_dim, output_dim)\n",
        "\n",
        "    def forward(self, x):  # x: [batch_size, input_dim]\n",
        "        x = self.relu(self.fc1(x))\n",
        "        return self.fc2(x)"
      ],
      "metadata": {
        "id": "L6Hiyrz9nmgz"
      },
      "execution_count": 46,
      "outputs": []
    },
    {
      "cell_type": "code",
      "source": [
        "input_dim = len(train_embeddings[0])\n",
        "embedding_dim = 32\n",
        "hidden_dim = 32\n",
        "output_dim = 1"
      ],
      "metadata": {
        "id": "4e03U-cPnoUa"
      },
      "execution_count": 47,
      "outputs": []
    },
    {
      "cell_type": "code",
      "source": [
        "model = FFNClassifier(input_dim, hidden_dim, output_dim)\n",
        "optimizer = optim.Adam(model.parameters())\n",
        "loss_func = nn.BCEWithLogitsLoss()\n",
        "model = model.to(device)\n",
        "loss_func = loss_func.to(device)"
      ],
      "metadata": {
        "id": "hL47HN9pnpU_"
      },
      "execution_count": 48,
      "outputs": []
    },
    {
      "cell_type": "code",
      "source": [
        "num_epochs = 10\n",
        "best_val_loss = float('inf')\n",
        "\n",
        "for epoch in range(num_epochs):\n",
        "  time_start = time.time()\n",
        "  training_loss, training_accuracy = training_loop(\n",
        "      model, train_dataloader, optimizer, loss_func)\n",
        "  validation_loss, validation_accuracy = validate(\n",
        "      model, test_dataloader, loss_func)\n",
        "\n",
        "  time_end = time.time()\n",
        "  time_delta = time_end - time_start\n",
        "\n",
        "  if validation_loss < best_val_loss:\n",
        "    best_val_loss = validation_loss\n",
        "    torch.save(model.state_dict(), 'model.pt')\n",
        "\n",
        "  print(f'epoch: {epoch+1} | time elapsed: {time_delta}s')\n",
        "  print(f'training loss: {training_loss:.3f} | training accuracy: {training_accuracy*100:.2f}%')\n",
        "  print(f'validation loss: {validation_loss:.3f} | validation accuracy: {validation_accuracy*100:.2f}%')"
      ],
      "metadata": {
        "colab": {
          "base_uri": "https://localhost:8080/"
        },
        "id": "KVLDwE6gnrXA",
        "outputId": "9d436562-1450-4fd4-b981-7089dcc7abf7"
      },
      "execution_count": 53,
      "outputs": [
        {
          "output_type": "stream",
          "name": "stdout",
          "text": [
            "epoch: 1 | time elapsed: 0.2812950611114502s\n",
            "training loss: 0.647 | training accuracy: 80.53%\n",
            "validation loss: 0.572 | validation accuracy: 92.19%\n",
            "epoch: 2 | time elapsed: 0.21693086624145508s\n",
            "training loss: 0.457 | training accuracy: 92.58%\n",
            "validation loss: 0.375 | validation accuracy: 91.98%\n",
            "epoch: 3 | time elapsed: 0.1973590850830078s\n",
            "training loss: 0.293 | training accuracy: 93.52%\n",
            "validation loss: 0.266 | validation accuracy: 93.44%\n",
            "epoch: 4 | time elapsed: 0.1920022964477539s\n",
            "training loss: 0.215 | training accuracy: 94.25%\n",
            "validation loss: 0.222 | validation accuracy: 93.12%\n",
            "epoch: 5 | time elapsed: 0.19772028923034668s\n",
            "training loss: 0.176 | training accuracy: 94.84%\n",
            "validation loss: 0.214 | validation accuracy: 91.88%\n",
            "epoch: 6 | time elapsed: 0.21338844299316406s\n",
            "training loss: 0.155 | training accuracy: 95.18%\n",
            "validation loss: 0.211 | validation accuracy: 91.04%\n",
            "epoch: 7 | time elapsed: 0.23921585083007812s\n",
            "training loss: 0.141 | training accuracy: 95.56%\n",
            "validation loss: 0.191 | validation accuracy: 92.92%\n",
            "epoch: 8 | time elapsed: 0.22804713249206543s\n",
            "training loss: 0.132 | training accuracy: 95.77%\n",
            "validation loss: 0.185 | validation accuracy: 92.29%\n",
            "epoch: 9 | time elapsed: 0.2297208309173584s\n",
            "training loss: 0.125 | training accuracy: 96.10%\n",
            "validation loss: 0.178 | validation accuracy: 92.81%\n",
            "epoch: 10 | time elapsed: 0.2205486297607422s\n",
            "training loss: 0.119 | training accuracy: 96.39%\n",
            "validation loss: 0.181 | validation accuracy: 92.81%\n"
          ]
        }
      ]
    }
  ]
}