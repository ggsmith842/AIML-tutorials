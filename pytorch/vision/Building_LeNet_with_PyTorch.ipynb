{
  "nbformat": 4,
  "nbformat_minor": 0,
  "metadata": {
    "colab": {
      "provenance": [],
      "gpuType": "T4"
    },
    "kernelspec": {
      "name": "python3",
      "display_name": "Python 3"
    },
    "language_info": {
      "name": "python"
    },
    "accelerator": "GPU"
  },
  "cells": [
    {
      "cell_type": "markdown",
      "source": [
        "# Using PyTorch to Build LeNet\n",
        "\n",
        "LeNet was developed in 1998 and is one of the first Convolutional Neural Network models. The model is especially good at image recognition.\n",
        "\n",
        "The notebook implements LeNet-5 which contains 5 layers. 2 convolutional and 3 fully-connected.\n",
        "\n",
        "This code is referenced in Mastering PyTorch but updated to run on a GPU in Google Colab."
      ],
      "metadata": {
        "id": "cC7ICzJUVIKo"
      }
    },
    {
      "cell_type": "code",
      "execution_count": 1,
      "metadata": {
        "id": "Q-5rjoDKSzqu"
      },
      "outputs": [],
      "source": [
        "# import PyTorch and python libraries\n",
        "\n",
        "import numpy as np\n",
        "import matplotlib.pyplot as plt\n",
        "import torch\n",
        "import torchvision\n",
        "import torch.nn as nn\n",
        "import torch.nn.functional as F\n",
        "import torchvision.transforms as transforms\n",
        "\n",
        "# comment out if running on gpu\n",
        "# torch.use_deterministic_algorithms(True) # for reproducibility"
      ]
    },
    {
      "cell_type": "code",
      "source": [
        "device = torch.device(\"cuda:0\" if torch.cuda.is_available() else \"cpu\")\n",
        "print(device)"
      ],
      "metadata": {
        "colab": {
          "base_uri": "https://localhost:8080/"
        },
        "id": "cO2tdED9jCwt",
        "outputId": "e4336312-0f01-4e90-bbd5-026d55685ccd"
      },
      "execution_count": 2,
      "outputs": [
        {
          "output_type": "stream",
          "name": "stdout",
          "text": [
            "cuda:0\n"
          ]
        }
      ]
    },
    {
      "cell_type": "code",
      "source": [
        "class LeNet(nn.Module):\n",
        "  def __init__(self):\n",
        "    super(LeNet, self).__init__()\n",
        "\n",
        "    # layer 1 - 3 input image channels, 6 output feature maps\n",
        "    # and 5x5 conv kernel\n",
        "    self.cn1 = nn.Conv2d(3, 6, 5)\n",
        "\n",
        "    # layer 2 - 6 input image channels, 16 output feature maps\n",
        "    # and 5x5 conv kernel\n",
        "    self.cn2 = nn.Conv2d(6,16,5)\n",
        "\n",
        "    # layers 3 - 5 fully-connected size 120, 84, and 10\n",
        "    # with 5x5 as the spatial dimension\n",
        "    self.fc1 = nn.Linear(16*5*5, 120)\n",
        "    self.fc2 = nn.Linear(120, 84)\n",
        "    self.fc3 = nn.Linear(84, 10)\n",
        "\n",
        "\n",
        "  def forward(self, x):\n",
        "    # Convolution with 5x5 kernel\n",
        "    x = F.relu(self.cn1(x))\n",
        "    # max pooling over a (2,2) windows\n",
        "    x = F.max_pool2d(x, (2,2))\n",
        "\n",
        "    x = F.relu(self.cn2(x))\n",
        "    x = F.max_pool2d(x, (2,2))\n",
        "\n",
        "    # flatten spatial and depth dimensions into single vector\n",
        "    x = x.view(-1, self.flatten_features(x))\n",
        "\n",
        "    # fully connected operations\n",
        "    x = F.relu(self.fc1(x))\n",
        "    x = F.relu(self.fc2(x))\n",
        "    x = self.fc3(x)\n",
        "\n",
        "    return x\n",
        "\n",
        "  def flatten_features(self, x):\n",
        "    # all except the first (batch) dim\n",
        "    size = x.size()[1:]\n",
        "    num_feats = 1\n",
        "    for s in size:\n",
        "      num_feats *= s\n",
        "    return num_feats"
      ],
      "metadata": {
        "id": "NGVr9F-MWe15"
      },
      "execution_count": 3,
      "outputs": []
    },
    {
      "cell_type": "code",
      "source": [
        "lenet = LeNet().to(device)\n",
        "print(lenet)"
      ],
      "metadata": {
        "id": "Z8cnibNnainq",
        "outputId": "628f222f-a8c7-4c20-d809-f103d5fd39b1",
        "colab": {
          "base_uri": "https://localhost:8080/"
        }
      },
      "execution_count": 4,
      "outputs": [
        {
          "output_type": "stream",
          "name": "stdout",
          "text": [
            "LeNet(\n",
            "  (cn1): Conv2d(3, 6, kernel_size=(5, 5), stride=(1, 1))\n",
            "  (cn2): Conv2d(6, 16, kernel_size=(5, 5), stride=(1, 1))\n",
            "  (fc1): Linear(in_features=400, out_features=120, bias=True)\n",
            "  (fc2): Linear(in_features=120, out_features=84, bias=True)\n",
            "  (fc3): Linear(in_features=84, out_features=10, bias=True)\n",
            ")\n"
          ]
        }
      ]
    },
    {
      "cell_type": "code",
      "source": [
        "# build function for training loop\n",
        "def train(model, train_dataloader, optim, epoch):\n",
        "  loss_total = 0.0\n",
        "  for i, data in enumerate(train_dataloader, 0):\n",
        "\n",
        "    # get inputs from data [inputs, labels]\n",
        "    img, label = data\n",
        "    img, label = img.to(device), label.to(device)\n",
        "\n",
        "    # zero out the parameter gradients\n",
        "    optim.zero_grad()\n",
        "\n",
        "    # forward - pass + backward-pass + optimization - step\n",
        "    op = model(img)\n",
        "    loss = nn.CrossEntropyLoss()(op, label)\n",
        "    loss.backward()\n",
        "    optim.step()\n",
        "\n",
        "    # update loss value for current epoch\n",
        "    loss_total += loss.item()\n",
        "    # print at 1000 mini-batch intervals\n",
        "    if (i + 1) % 1000 == 0:\n",
        "      print(f'[Epoch number: {epoch + 1}, Mini-batches: {i +1 }] \\ loss: {loss_total / 200}')\n",
        "      loss_total = 0.0"
      ],
      "metadata": {
        "id": "homiTZLvbj_W"
      },
      "execution_count": 5,
      "outputs": []
    },
    {
      "cell_type": "code",
      "source": [
        "# evaluation / test loop\n",
        "def test(model, test_dataloader):\n",
        "  success = 0\n",
        "  counter = 0\n",
        "  with torch.no_grad():\n",
        "    for data in test_dataloader:\n",
        "      img, label = data\n",
        "      img, label = img.to(device), label.to(device)\n",
        "      op = model(img)\n",
        "      _, pred = torch.max(op.data, 1)\n",
        "      counter += label.size(0)\n",
        "      success += (pred == label).sum().item()\n",
        "    print(f'LeNet Accuracy on 10000 images from test dataset: {(success / counter) * 100:.2f}%')\n",
        "\n",
        "\n"
      ],
      "metadata": {
        "id": "X-N4hVFF89z5"
      },
      "execution_count": 6,
      "outputs": []
    },
    {
      "cell_type": "code",
      "source": [
        "train_transform = transforms.Compose(\n",
        "    [transforms.RandomHorizontalFlip(),\n",
        "     transforms.RandomCrop(32,4),\n",
        "     transforms.ToTensor(),\n",
        "     transforms.Normalize((0.5, 0.5, 0.5), (0.5, 0.5, 0.5))]\n",
        ")\n",
        "\n",
        "trainset = torchvision.datasets.CIFAR10(root='./data',\n",
        "                                        train=True, download=True, transform=train_transform)\n",
        "\n",
        "trainloader = torch.utils.data.DataLoader(trainset, batch_size=8, shuffle=True)"
      ],
      "metadata": {
        "colab": {
          "base_uri": "https://localhost:8080/"
        },
        "id": "0qACkpEJ--aZ",
        "outputId": "ddfce150-ad24-4eff-8cda-bc2a45b9a4af"
      },
      "execution_count": 7,
      "outputs": [
        {
          "output_type": "stream",
          "name": "stderr",
          "text": [
            "100%|██████████| 170M/170M [00:13<00:00, 12.6MB/s]\n"
          ]
        }
      ]
    },
    {
      "cell_type": "code",
      "source": [
        "test_transform = transforms.Compose(\n",
        "    [transforms.ToTensor(), transforms.Normalize((0.5, 0.5, 0.5),(0.5, 0.5, 0.5))]\n",
        ")\n",
        "\n",
        "testset = torchvision.datasets.CIFAR10(root='./data',\n",
        "                                        train=False, download=True, transform=test_transform)\n",
        "\n",
        "testloader = torch.utils.data.DataLoader(testset, batch_size=10000, shuffle=False)\n",
        "\n",
        "classes = ('plane', 'car', 'bird', 'cat', 'deer', 'dog', 'frog', 'horse', 'ship', 'truck')\n"
      ],
      "metadata": {
        "id": "nEbYTAGS_rQB"
      },
      "execution_count": 8,
      "outputs": []
    },
    {
      "cell_type": "code",
      "source": [
        "def img_show(img):\n",
        "  # denormalize the image\n",
        "  img = img/2 + 0.5\n",
        "  npimage = img.numpy()\n",
        "  plt.imshow(np.transpose(npimage, (1,2,0)))\n",
        "  plt.show()"
      ],
      "metadata": {
        "id": "7J_Na7IJARGi"
      },
      "execution_count": 9,
      "outputs": []
    },
    {
      "cell_type": "code",
      "source": [
        "dataiter = iter(trainloader)\n",
        "images, labels = next(dataiter)\n",
        "\n",
        "n = 4\n",
        "\n",
        "img_show(torchvision.utils.make_grid(images[:n]))\n",
        "print(' '+' || '.join(classes[labels[j]] for j in range(n)))"
      ],
      "metadata": {
        "colab": {
          "base_uri": "https://localhost:8080/",
          "height": 211
        },
        "id": "srSZzz3oAlKC",
        "outputId": "9b687d7a-1585-4e03-f7e7-3ec8009d3cf6"
      },
      "execution_count": 10,
      "outputs": [
        {
          "output_type": "display_data",
          "data": {
            "text/plain": [
              "<Figure size 640x480 with 1 Axes>"
            ],
            "image/png": "[encoded data removed]"
          },
          "metadata": {}
        },
        {
          "output_type": "stream",
          "name": "stdout",
          "text": [
            " frog || deer || deer || dog\n"
          ]
        }
      ]
    },
    {
      "cell_type": "code",
      "source": [
        "# define optimizer\n",
        "optim = torch.optim.Adam(lenet.parameters(), lr = 0.001)\n",
        "\n",
        "# execute training loop for multiple epochs\n",
        "for epoch in range(20):\n",
        "  train(lenet, trainloader, optim, epoch)\n",
        "  test(lenet, testloader)\n",
        "  print()\n",
        "print('Finished Training')\n"
      ],
      "metadata": {
        "colab": {
          "base_uri": "https://localhost:8080/"
        },
        "id": "V3_Juc-xe31e",
        "outputId": "9d6ae355-8545-4aed-e279-7ad35b1198fe"
      },
      "execution_count": 11,
      "outputs": [
        {
          "output_type": "stream",
          "name": "stdout",
          "text": [
            "[Epoch number: 1, Mini-batches: 1000] \\ loss: 9.90738964498043\n",
            "[Epoch number: 1, Mini-batches: 2000] \\ loss: 8.778030918240548\n",
            "[Epoch number: 1, Mini-batches: 3000] \\ loss: 8.413589752912522\n",
            "[Epoch number: 1, Mini-batches: 4000] \\ loss: 8.133448733985425\n",
            "[Epoch number: 1, Mini-batches: 5000] \\ loss: 7.9443953555822375\n",
            "[Epoch number: 1, Mini-batches: 6000] \\ loss: 7.74602963089943\n",
            "LeNet Accuracy on 10000 images from test dataset: 45.63%\n",
            "\n",
            "[Epoch number: 2, Mini-batches: 1000] \\ loss: 7.59565857231617\n",
            "[Epoch number: 2, Mini-batches: 2000] \\ loss: 7.367192136049271\n",
            "[Epoch number: 2, Mini-batches: 3000] \\ loss: 7.427239284813404\n",
            "[Epoch number: 2, Mini-batches: 4000] \\ loss: 7.335821777582169\n",
            "[Epoch number: 2, Mini-batches: 5000] \\ loss: 7.370644254088401\n",
            "[Epoch number: 2, Mini-batches: 6000] \\ loss: 7.1985158798098565\n",
            "LeNet Accuracy on 10000 images from test dataset: 50.87%\n",
            "\n",
            "[Epoch number: 3, Mini-batches: 1000] \\ loss: 7.104989108294249\n",
            "[Epoch number: 3, Mini-batches: 2000] \\ loss: 7.0415066921710965\n",
            "[Epoch number: 3, Mini-batches: 3000] \\ loss: 7.054782066941261\n",
            "[Epoch number: 3, Mini-batches: 4000] \\ loss: 6.93529890626669\n",
            "[Epoch number: 3, Mini-batches: 5000] \\ loss: 6.9504247030615804\n",
            "[Epoch number: 3, Mini-batches: 6000] \\ loss: 6.898325802832842\n",
            "LeNet Accuracy on 10000 images from test dataset: 53.44%\n",
            "\n",
            "[Epoch number: 4, Mini-batches: 1000] \\ loss: 6.8061697915196415\n",
            "[Epoch number: 4, Mini-batches: 2000] \\ loss: 6.754002295881509\n",
            "[Epoch number: 4, Mini-batches: 3000] \\ loss: 6.690463572144508\n",
            "[Epoch number: 4, Mini-batches: 4000] \\ loss: 6.697884958833456\n",
            "[Epoch number: 4, Mini-batches: 5000] \\ loss: 6.679897213280201\n",
            "[Epoch number: 4, Mini-batches: 6000] \\ loss: 6.62115331619978\n",
            "LeNet Accuracy on 10000 images from test dataset: 54.56%\n",
            "\n",
            "[Epoch number: 5, Mini-batches: 1000] \\ loss: 6.4931151841580865\n",
            "[Epoch number: 5, Mini-batches: 2000] \\ loss: 6.593368057608604\n",
            "[Epoch number: 5, Mini-batches: 3000] \\ loss: 6.565870912969112\n",
            "[Epoch number: 5, Mini-batches: 4000] \\ loss: 6.638950645029545\n",
            "[Epoch number: 5, Mini-batches: 5000] \\ loss: 6.515200031995773\n",
            "[Epoch number: 5, Mini-batches: 6000] \\ loss: 6.461358244419098\n",
            "LeNet Accuracy on 10000 images from test dataset: 57.50%\n",
            "\n",
            "[Epoch number: 6, Mini-batches: 1000] \\ loss: 6.4016436938941474\n",
            "[Epoch number: 6, Mini-batches: 2000] \\ loss: 6.38295330375433\n",
            "[Epoch number: 6, Mini-batches: 3000] \\ loss: 6.489069519042968\n",
            "[Epoch number: 6, Mini-batches: 4000] \\ loss: 6.471654848009348\n",
            "[Epoch number: 6, Mini-batches: 5000] \\ loss: 6.325821040421724\n",
            "[Epoch number: 6, Mini-batches: 6000] \\ loss: 6.190405972003937\n",
            "LeNet Accuracy on 10000 images from test dataset: 58.01%\n",
            "\n",
            "[Epoch number: 7, Mini-batches: 1000] \\ loss: 6.323733348026872\n",
            "[Epoch number: 7, Mini-batches: 2000] \\ loss: 6.243461507335305\n",
            "[Epoch number: 7, Mini-batches: 3000] \\ loss: 6.263274322152138\n",
            "[Epoch number: 7, Mini-batches: 4000] \\ loss: 6.252427098155022\n",
            "[Epoch number: 7, Mini-batches: 5000] \\ loss: 6.341890750974417\n",
            "[Epoch number: 7, Mini-batches: 6000] \\ loss: 6.142322693914175\n",
            "LeNet Accuracy on 10000 images from test dataset: 59.31%\n",
            "\n",
            "[Epoch number: 8, Mini-batches: 1000] \\ loss: 6.2077576306462285\n",
            "[Epoch number: 8, Mini-batches: 2000] \\ loss: 6.138615977168083\n",
            "[Epoch number: 8, Mini-batches: 3000] \\ loss: 6.1437695616483685\n",
            "[Epoch number: 8, Mini-batches: 4000] \\ loss: 6.227693884074688\n",
            "[Epoch number: 8, Mini-batches: 5000] \\ loss: 6.091160070449114\n",
            "[Epoch number: 8, Mini-batches: 6000] \\ loss: 6.130589270144701\n",
            "LeNet Accuracy on 10000 images from test dataset: 59.47%\n",
            "\n",
            "[Epoch number: 9, Mini-batches: 1000] \\ loss: 6.066751358658076\n",
            "[Epoch number: 9, Mini-batches: 2000] \\ loss: 6.127354331612587\n",
            "[Epoch number: 9, Mini-batches: 3000] \\ loss: 6.017651219069958\n",
            "[Epoch number: 9, Mini-batches: 4000] \\ loss: 6.12838650599122\n",
            "[Epoch number: 9, Mini-batches: 5000] \\ loss: 6.042314263880253\n",
            "[Epoch number: 9, Mini-batches: 6000] \\ loss: 6.067287939861417\n",
            "LeNet Accuracy on 10000 images from test dataset: 59.96%\n",
            "\n",
            "[Epoch number: 10, Mini-batches: 1000] \\ loss: 6.0541735303401945\n",
            "[Epoch number: 10, Mini-batches: 2000] \\ loss: 5.996058978885412\n",
            "[Epoch number: 10, Mini-batches: 3000] \\ loss: 6.0200798919796945\n",
            "[Epoch number: 10, Mini-batches: 4000] \\ loss: 5.951441849321127\n",
            "[Epoch number: 10, Mini-batches: 5000] \\ loss: 5.999806897491217\n",
            "[Epoch number: 10, Mini-batches: 6000] \\ loss: 5.904660450741648\n",
            "LeNet Accuracy on 10000 images from test dataset: 61.79%\n",
            "\n",
            "[Epoch number: 11, Mini-batches: 1000] \\ loss: 5.840493676885963\n",
            "[Epoch number: 11, Mini-batches: 2000] \\ loss: 5.997235136032105\n",
            "[Epoch number: 11, Mini-batches: 3000] \\ loss: 5.9508434566855435\n",
            "[Epoch number: 11, Mini-batches: 4000] \\ loss: 5.848791843950749\n",
            "[Epoch number: 11, Mini-batches: 5000] \\ loss: 5.931379619464278\n",
            "[Epoch number: 11, Mini-batches: 6000] \\ loss: 5.898419914320112\n",
            "LeNet Accuracy on 10000 images from test dataset: 61.23%\n",
            "\n",
            "[Epoch number: 12, Mini-batches: 1000] \\ loss: 5.721919082254171\n",
            "[Epoch number: 12, Mini-batches: 2000] \\ loss: 5.800280347764492\n",
            "[Epoch number: 12, Mini-batches: 3000] \\ loss: 5.995923943072557\n",
            "[Epoch number: 12, Mini-batches: 4000] \\ loss: 5.841871925368905\n",
            "[Epoch number: 12, Mini-batches: 5000] \\ loss: 5.870918982326985\n",
            "[Epoch number: 12, Mini-batches: 6000] \\ loss: 5.861393364593386\n",
            "LeNet Accuracy on 10000 images from test dataset: 61.62%\n",
            "\n",
            "[Epoch number: 13, Mini-batches: 1000] \\ loss: 5.744502312839031\n",
            "[Epoch number: 13, Mini-batches: 2000] \\ loss: 5.863284824192524\n",
            "[Epoch number: 13, Mini-batches: 3000] \\ loss: 5.872427203953266\n",
            "[Epoch number: 13, Mini-batches: 4000] \\ loss: 5.913866420537233\n",
            "[Epoch number: 13, Mini-batches: 5000] \\ loss: 5.854624170809984\n",
            "[Epoch number: 13, Mini-batches: 6000] \\ loss: 5.722321405112743\n",
            "LeNet Accuracy on 10000 images from test dataset: 63.27%\n",
            "\n",
            "[Epoch number: 14, Mini-batches: 1000] \\ loss: 5.704866503775119\n",
            "[Epoch number: 14, Mini-batches: 2000] \\ loss: 5.737573013976216\n",
            "[Epoch number: 14, Mini-batches: 3000] \\ loss: 5.7703195828944445\n",
            "[Epoch number: 14, Mini-batches: 4000] \\ loss: 5.801891310513019\n",
            "[Epoch number: 14, Mini-batches: 5000] \\ loss: 5.747021238058806\n",
            "[Epoch number: 14, Mini-batches: 6000] \\ loss: 5.701225093901157\n",
            "LeNet Accuracy on 10000 images from test dataset: 61.69%\n",
            "\n",
            "[Epoch number: 15, Mini-batches: 1000] \\ loss: 5.721313506513834\n",
            "[Epoch number: 15, Mini-batches: 2000] \\ loss: 5.736327762156725\n",
            "[Epoch number: 15, Mini-batches: 3000] \\ loss: 5.670112550035119\n",
            "[Epoch number: 15, Mini-batches: 4000] \\ loss: 5.821974795162678\n",
            "[Epoch number: 15, Mini-batches: 5000] \\ loss: 5.816528805941343\n",
            "[Epoch number: 15, Mini-batches: 6000] \\ loss: 5.679532341957092\n",
            "LeNet Accuracy on 10000 images from test dataset: 62.07%\n",
            "\n",
            "[Epoch number: 16, Mini-batches: 1000] \\ loss: 5.6645643851161\n",
            "[Epoch number: 16, Mini-batches: 2000] \\ loss: 5.706875550672412\n",
            "[Epoch number: 16, Mini-batches: 3000] \\ loss: 5.73011730760336\n",
            "[Epoch number: 16, Mini-batches: 4000] \\ loss: 5.667082201316953\n",
            "[Epoch number: 16, Mini-batches: 5000] \\ loss: 5.671923323273659\n",
            "[Epoch number: 16, Mini-batches: 6000] \\ loss: 5.599033204093575\n",
            "LeNet Accuracy on 10000 images from test dataset: 62.87%\n",
            "\n",
            "[Epoch number: 17, Mini-batches: 1000] \\ loss: 5.68881273292005\n",
            "[Epoch number: 17, Mini-batches: 2000] \\ loss: 5.55980179823935\n",
            "[Epoch number: 17, Mini-batches: 3000] \\ loss: 5.759453647434712\n",
            "[Epoch number: 17, Mini-batches: 4000] \\ loss: 5.527171398997307\n",
            "[Epoch number: 17, Mini-batches: 5000] \\ loss: 5.758704533725977\n",
            "[Epoch number: 17, Mini-batches: 6000] \\ loss: 5.715612813550979\n",
            "LeNet Accuracy on 10000 images from test dataset: 62.96%\n",
            "\n",
            "[Epoch number: 18, Mini-batches: 1000] \\ loss: 5.585854288190603\n",
            "[Epoch number: 18, Mini-batches: 2000] \\ loss: 5.573398857861758\n",
            "[Epoch number: 18, Mini-batches: 3000] \\ loss: 5.6840106962621215\n",
            "[Epoch number: 18, Mini-batches: 4000] \\ loss: 5.624038505628705\n",
            "[Epoch number: 18, Mini-batches: 5000] \\ loss: 5.581862510889769\n",
            "[Epoch number: 18, Mini-batches: 6000] \\ loss: 5.615826585963369\n",
            "LeNet Accuracy on 10000 images from test dataset: 61.10%\n",
            "\n",
            "[Epoch number: 19, Mini-batches: 1000] \\ loss: 5.574177062213421\n",
            "[Epoch number: 19, Mini-batches: 2000] \\ loss: 5.574431567564607\n",
            "[Epoch number: 19, Mini-batches: 3000] \\ loss: 5.583901104778051\n",
            "[Epoch number: 19, Mini-batches: 4000] \\ loss: 5.687543160170317\n",
            "[Epoch number: 19, Mini-batches: 5000] \\ loss: 5.589318579360842\n",
            "[Epoch number: 19, Mini-batches: 6000] \\ loss: 5.558294185549021\n",
            "LeNet Accuracy on 10000 images from test dataset: 62.64%\n",
            "\n",
            "[Epoch number: 20, Mini-batches: 1000] \\ loss: 5.595162385851145\n",
            "[Epoch number: 20, Mini-batches: 2000] \\ loss: 5.517713188156486\n",
            "[Epoch number: 20, Mini-batches: 3000] \\ loss: 5.576702632680536\n",
            "[Epoch number: 20, Mini-batches: 4000] \\ loss: 5.558479508981109\n",
            "[Epoch number: 20, Mini-batches: 5000] \\ loss: 5.613556892648339\n",
            "[Epoch number: 20, Mini-batches: 6000] \\ loss: 5.557562244981527\n",
            "LeNet Accuracy on 10000 images from test dataset: 63.41%\n",
            "\n",
            "Finished Training\n"
          ]
        }
      ]
    },
    {
      "cell_type": "code",
      "source": [
        "# save model\n",
        "model_path = './cifar_model.pth'\n",
        "torch.save(lenet.state_dict(), model_path)"
      ],
      "metadata": {
        "id": "jLLX4IjfixyF"
      },
      "execution_count": 12,
      "outputs": []
    },
    {
      "cell_type": "code",
      "source": [
        "# load the saved model and checks results against test dataset\n",
        "test_iter = iter(testloader)\n",
        "img, label = next(test_iter)\n",
        "\n",
        "# print image and label\n",
        "img_show(torchvision.utils.make_grid(img[:4]))\n",
        "\n",
        "\n",
        "print(f\"Labels:\\t\\t{' '.join(f'{classes[label[j]]:15}' for j in range(4))}\")\n",
        "\n",
        "# load model\n",
        "lenet_cached = LeNet()\n",
        "lenet_cached.load_state_dict(torch.load(model_path))\n",
        "\n",
        "# model inference\n",
        "op = lenet_cached(img)\n",
        "\n",
        "# print predictions\n",
        "_, pred = torch.max(op, 1)\n",
        "print(f\"Prediction:\\t{''.join(f'{classes[pred[j]]:15}' for j in range(4))}\")"
      ],
      "metadata": {
        "colab": {
          "base_uri": "https://localhost:8080/",
          "height": 230
        },
        "id": "AKQqB0fEi4v6",
        "outputId": "ec9cd2d7-1f03-4cc1-f184-87a6709e7b5e"
      },
      "execution_count": 13,
      "outputs": [
        {
          "output_type": "display_data",
          "data": {
            "text/plain": [
              "<Figure size 640x480 with 1 Axes>"
            ],
            "image/png": "[encoded data removed]"
          },
          "metadata": {}
        },
        {
          "output_type": "stream",
          "name": "stdout",
          "text": [
            "Labels:\t\tcat             ship            ship            plane          \n",
            "Prediction:\tcat            car            ship           plane          \n"
          ]
        }
      ]
    },
    {
      "cell_type": "code",
      "source": [
        "# show overall accuracy\n",
        "success = 0\n",
        "counter = 0\n",
        "\n",
        "with torch.no_grad():\n",
        "  for data in testloader:\n",
        "    img, label = data\n",
        "    op = lenet_cached(img)\n",
        "    _, pred = torch.max(op.data, 1)\n",
        "    counter += label.size(0)\n",
        "    success += (pred == label).sum().item()\n",
        "  print(f'Model accuracy on 10000 images from test data: {100* success / counter:.2f}%')\n",
        ""
      ],
      "metadata": {
        "colab": {
          "base_uri": "https://localhost:8080/"
        },
        "id": "jMzAhZ1WjXNS",
        "outputId": "5724e452-a345-4d1d-c905-e4bc7122a0ff"
      },
      "execution_count": 18,
      "outputs": [
        {
          "output_type": "stream",
          "name": "stdout",
          "text": [
            "Model accuracy on 10000 images from test data: 63.41%\n"
          ]
        }
      ]
    },
    {
      "cell_type": "code",
      "source": [
        "# accuracy by class\n",
        "class_success = list(0. for i in range(10))\n",
        "class_counter = list(0. for i in range(10))\n",
        "\n",
        "with torch.no_grad():\n",
        "  for data in testloader:\n",
        "    img, label = data\n",
        "    op = lenet_cached(img)\n",
        "    _, pred = torch.max(op.data, 1)\n",
        "    c = (pred == label).squeeze()\n",
        "    for i in range(10000):\n",
        "      label_curr = label[i]\n",
        "      class_success[label_curr] += c[i].item()\n",
        "      class_counter[label_curr] += 1\n",
        "\n",
        "for i in range(10):\n",
        "  print(f'Model accuracy for class {classes[i]}\\t{100*class_success[i] / class_counter[i]:.2f}%')\n"
      ],
      "metadata": {
        "colab": {
          "base_uri": "https://localhost:8080/"
        },
        "id": "jcZ0Kpowwv9p",
        "outputId": "9b4015af-08ed-4d61-b74d-e4dfb01f08de"
      },
      "execution_count": 17,
      "outputs": [
        {
          "output_type": "stream",
          "name": "stdout",
          "text": [
            "Model accuracy for class plane\t62.70%\n",
            "Model accuracy for class car\t77.70%\n",
            "Model accuracy for class bird\t41.80%\n",
            "Model accuracy for class cat\t37.10%\n",
            "Model accuracy for class deer\t58.80%\n",
            "Model accuracy for class dog\t65.60%\n",
            "Model accuracy for class frog\t81.90%\n",
            "Model accuracy for class horse\t57.20%\n",
            "Model accuracy for class ship\t80.70%\n",
            "Model accuracy for class truck\t70.60%\n"
          ]
        }
      ]
    },
    {
      "cell_type": "markdown",
      "source": [
        "The LeNet model performs relatively well and is very good at some classes but more at others. The next notebook covers the AlexNet model ."
      ],
      "metadata": {
        "id": "CQq1oCsBy_f9"
      }
    }
  ]
}