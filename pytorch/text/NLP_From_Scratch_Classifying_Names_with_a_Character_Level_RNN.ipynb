{
  "nbformat": 4,
  "nbformat_minor": 0,
  "metadata": {
    "colab": {
      "provenance": [],
      "gpuType": "T4",
      "authorship_tag": "ABX9TyOEKimmZWkcGvw83Xhl+iOC",
      "include_colab_link": true
    },
    "kernelspec": {
      "name": "python3",
      "display_name": "Python 3"
    },
    "language_info": {
      "name": "python"
    },
    "accelerator": "GPU"
  },
  "cells": [
    {
      "cell_type": "markdown",
      "metadata": {
        "id": "view-in-github",
        "colab_type": "text"
      },
      "source": [
        "<a href=\"https://colab.research.google.com/github/ggsmith842/AIML-tutorials/blob/main/pytorch/text/NLP_From_Scratch_Classifying_Names_with_a_Character_Level_RNN.ipynb\" target=\"_parent\"><img src=\"https://colab.research.google.com/assets/colab-badge.svg\" alt=\"Open In Colab\"/></a>"
      ]
    },
    {
      "cell_type": "markdown",
      "source": [
        "ref: [pytorch.org/tutorials/classification_tutorial](https://docs.pytorch.org/tutorials/intermediate/char_rnn_classification_tutorial.html)"
      ],
      "metadata": {
        "id": "P5QEChrWQMqJ"
      }
    },
    {
      "cell_type": "code",
      "execution_count": 17,
      "metadata": {
        "id": "xnHKL5XlN5qR"
      },
      "outputs": [],
      "source": [
        "import torch\n",
        "import torch.nn as nn\n",
        "import torch.nn.functional as F"
      ]
    },
    {
      "cell_type": "code",
      "source": [
        "device = ('cuda' if torch.cuda.is_available() else 'cpu')\n",
        "torch.set_default_device(device)\n",
        "print(f\"Using device = {torch.get_default_device()}\")"
      ],
      "metadata": {
        "colab": {
          "base_uri": "https://localhost:8080/"
        },
        "id": "2YwmW9n9N9Vm",
        "outputId": "8b7e2b76-2ec7-4d83-c1b5-d483c057fe31"
      },
      "execution_count": 5,
      "outputs": [
        {
          "output_type": "stream",
          "name": "stdout",
          "text": [
            "Using device = cuda:0\n"
          ]
        }
      ]
    },
    {
      "cell_type": "code",
      "source": [
        "# Prepare the data\n",
        "import string\n",
        "import unicodedata\n",
        "\n",
        "\n",
        "# oov chars represented by '_'\n",
        "allowed_chars = string.ascii_letters + \".,;'\" + \"_\"\n",
        "n_letters = len(allowed_chars)"
      ],
      "metadata": {
        "id": "lsGlcKaPO9-V"
      },
      "execution_count": 6,
      "outputs": []
    },
    {
      "cell_type": "code",
      "source": [
        "def unicodeToAscii(s):\n",
        "  return ''.join(\n",
        "      c for c in unicodedata.normalize('NFD', s) # NFD stands for Normalization Form Canonical Decomposition\n",
        "      if unicodedata.category(c)!= 'Mn' # 'Mn' stands for \"Mark, nonspacing,\" which includes characters like accent marks\n",
        "      and c in allowed_chars\n",
        "  )"
      ],
      "metadata": {
        "id": "GnUIJ_9EPh23"
      },
      "execution_count": 7,
      "outputs": []
    },
    {
      "cell_type": "code",
      "source": [
        "print (f\"converting 'Ślusàrski' to {unicodeToAscii('Ślusàrski')}\")"
      ],
      "metadata": {
        "colab": {
          "base_uri": "https://localhost:8080/"
        },
        "id": "oW_dbOynP-cy",
        "outputId": "9781144b-029e-4be0-9dda-1e06b046cca6"
      },
      "execution_count": 8,
      "outputs": [
        {
          "output_type": "stream",
          "name": "stdout",
          "text": [
            "converting 'Ślusàrski' to Slusarski\n"
          ]
        }
      ]
    },
    {
      "cell_type": "markdown",
      "source": [
        "# Turning Names into Tensors"
      ],
      "metadata": {
        "id": "M5O52hnTQZrM"
      }
    },
    {
      "cell_type": "code",
      "source": [
        "def letterToIndex(letter):\n",
        "  if letter not in allowed_chars:\n",
        "    return allowed_chars.find(\"_\")\n",
        "  else:\n",
        "    return allowed_chars.find(letter)\n",
        "\n",
        "# turn a line into a <line_len x 1 x n_letters>\n",
        "def lineToTensor(line):\n",
        "  tensor = torch.zeros(len(line), 1, n_letters)\n",
        "  for li, letter in enumerate(line):\n",
        "    tensor[li][0][letterToIndex(letter)] = 1\n",
        "  return tensor"
      ],
      "metadata": {
        "id": "qsbHfPMBQZIX"
      },
      "execution_count": 9,
      "outputs": []
    },
    {
      "cell_type": "code",
      "source": [
        "print (f\"The letter 'a' becomes {lineToTensor('a')}\") #notice that the first position in the tensor = 1\n",
        "print (f\"The name 'Ahn' becomes {lineToTensor('Ahn')}\") #notice 'A' sets the 27th index to 1"
      ],
      "metadata": {
        "colab": {
          "base_uri": "https://localhost:8080/"
        },
        "id": "kKwtUgcfQ9x7",
        "outputId": "77b71483-6255-440e-d056-0ca4b6551dd7"
      },
      "execution_count": 10,
      "outputs": [
        {
          "output_type": "stream",
          "name": "stdout",
          "text": [
            "The letter 'a' becomes tensor([[[1., 0., 0., 0., 0., 0., 0., 0., 0., 0., 0., 0., 0., 0., 0., 0., 0.,\n",
            "          0., 0., 0., 0., 0., 0., 0., 0., 0., 0., 0., 0., 0., 0., 0., 0., 0.,\n",
            "          0., 0., 0., 0., 0., 0., 0., 0., 0., 0., 0., 0., 0., 0., 0., 0., 0.,\n",
            "          0., 0., 0., 0., 0., 0.]]], device='cuda:0')\n",
            "The name 'Ahn' becomes tensor([[[0., 0., 0., 0., 0., 0., 0., 0., 0., 0., 0., 0., 0., 0., 0., 0., 0.,\n",
            "          0., 0., 0., 0., 0., 0., 0., 0., 0., 1., 0., 0., 0., 0., 0., 0., 0.,\n",
            "          0., 0., 0., 0., 0., 0., 0., 0., 0., 0., 0., 0., 0., 0., 0., 0., 0.,\n",
            "          0., 0., 0., 0., 0., 0.]],\n",
            "\n",
            "        [[0., 0., 0., 0., 0., 0., 0., 1., 0., 0., 0., 0., 0., 0., 0., 0., 0.,\n",
            "          0., 0., 0., 0., 0., 0., 0., 0., 0., 0., 0., 0., 0., 0., 0., 0., 0.,\n",
            "          0., 0., 0., 0., 0., 0., 0., 0., 0., 0., 0., 0., 0., 0., 0., 0., 0.,\n",
            "          0., 0., 0., 0., 0., 0.]],\n",
            "\n",
            "        [[0., 0., 0., 0., 0., 0., 0., 0., 0., 0., 0., 0., 0., 1., 0., 0., 0.,\n",
            "          0., 0., 0., 0., 0., 0., 0., 0., 0., 0., 0., 0., 0., 0., 0., 0., 0.,\n",
            "          0., 0., 0., 0., 0., 0., 0., 0., 0., 0., 0., 0., 0., 0., 0., 0., 0.,\n",
            "          0., 0., 0., 0., 0., 0.]]], device='cuda:0')\n"
          ]
        }
      ]
    },
    {
      "cell_type": "markdown",
      "source": [
        "# Create Dataset"
      ],
      "metadata": {
        "id": "F50WUhYgRPq0"
      }
    },
    {
      "cell_type": "code",
      "source": [
        "from io import open\n",
        "import glob\n",
        "import os\n",
        "import time\n",
        "\n",
        "from torch.utils.data import Dataset"
      ],
      "metadata": {
        "id": "k-cgLXJPRNpM"
      },
      "execution_count": 11,
      "outputs": []
    },
    {
      "cell_type": "code",
      "source": [
        "class NamesDataset(Dataset):\n",
        "  def __init__(self, data_dir):\n",
        "    self.data_dir = data_dir\n",
        "    self.load_time = time.localtime\n",
        "    labels_set = set()\n",
        "\n",
        "\n",
        "    self.data = []\n",
        "    self.data_tensors = []\n",
        "    self.labels = []\n",
        "    self.label_tensors = []\n",
        "\n",
        "    # real all the txt files in the data dir\n",
        "    text_files = glob.glob(os.path.join(data_dir, '*.txt'))\n",
        "    for f in text_files:\n",
        "      label = os.path.splitext(os.path.basename(f))[0]\n",
        "      labels_set.add(label)\n",
        "\n",
        "      lines = open(f, encoding='utf-8').read().strip().split('\\n')\n",
        "      for name in lines:\n",
        "        self.data.append(name)\n",
        "        self.data_tensors.append(lineToTensor(name))\n",
        "        self.labels.append(label)\n",
        "\n",
        "    # Cache the tensor representation of the labels\n",
        "    self.labels_uniq = list(labels_set)\n",
        "    for idx in range(len(self.labels)):\n",
        "      temp_tensor = torch.tensor([self.labels_uniq.index(self.labels[idx])], dtype=torch.long)\n",
        "      self.label_tensors.append(temp_tensor)\n",
        "\n",
        "  def __len__(self):\n",
        "    return len(self.data)\n",
        "\n",
        "  def __getitem__(self, idx):\n",
        "    data_item = self.data[idx]\n",
        "    data_label = self.labels[idx]\n",
        "    data_tensor = self.data_tensors[idx]\n",
        "    label_tensor = self.label_tensors[idx]\n",
        "\n",
        "    return label_tensor, data_tensor, data_label, data_item\n"
      ],
      "metadata": {
        "id": "AoG4hCLvRZHQ"
      },
      "execution_count": 12,
      "outputs": []
    },
    {
      "cell_type": "code",
      "source": [
        "#!curl https://download.pytorch.org/tutorial/data.zip --output data.zip\n",
        "#!unzip /content/data.zip -d /content/"
      ],
      "metadata": {
        "id": "UBUQx9QYTpT_"
      },
      "execution_count": 13,
      "outputs": []
    },
    {
      "cell_type": "code",
      "source": [
        "alldata = NamesDataset('/content/data/names/')\n",
        "print(f\"loaded {len(alldata)} items of data\")\n",
        "print(f\"example = {alldata[0]}\")"
      ],
      "metadata": {
        "colab": {
          "base_uri": "https://localhost:8080/"
        },
        "id": "-8kaplp7THAZ",
        "outputId": "21885b4f-9dd1-496d-c73b-6a6839acdc81"
      },
      "execution_count": 14,
      "outputs": [
        {
          "output_type": "stream",
          "name": "stdout",
          "text": [
            "loaded 20074 items of data\n",
            "example = (tensor([15], device='cuda:0'), tensor([[[0., 0., 0., 0., 0., 0., 0., 0., 0., 0., 0., 0., 0., 0., 0., 0., 0.,\n",
            "          0., 0., 0., 0., 0., 0., 0., 0., 0., 1., 0., 0., 0., 0., 0., 0., 0.,\n",
            "          0., 0., 0., 0., 0., 0., 0., 0., 0., 0., 0., 0., 0., 0., 0., 0., 0.,\n",
            "          0., 0., 0., 0., 0., 0.]],\n",
            "\n",
            "        [[0., 1., 0., 0., 0., 0., 0., 0., 0., 0., 0., 0., 0., 0., 0., 0., 0.,\n",
            "          0., 0., 0., 0., 0., 0., 0., 0., 0., 0., 0., 0., 0., 0., 0., 0., 0.,\n",
            "          0., 0., 0., 0., 0., 0., 0., 0., 0., 0., 0., 0., 0., 0., 0., 0., 0.,\n",
            "          0., 0., 0., 0., 0., 0.]],\n",
            "\n",
            "        [[1., 0., 0., 0., 0., 0., 0., 0., 0., 0., 0., 0., 0., 0., 0., 0., 0.,\n",
            "          0., 0., 0., 0., 0., 0., 0., 0., 0., 0., 0., 0., 0., 0., 0., 0., 0.,\n",
            "          0., 0., 0., 0., 0., 0., 0., 0., 0., 0., 0., 0., 0., 0., 0., 0., 0.,\n",
            "          0., 0., 0., 0., 0., 0.]],\n",
            "\n",
            "        [[0., 0., 0., 0., 0., 0., 0., 0., 0., 0., 0., 0., 0., 1., 0., 0., 0.,\n",
            "          0., 0., 0., 0., 0., 0., 0., 0., 0., 0., 0., 0., 0., 0., 0., 0., 0.,\n",
            "          0., 0., 0., 0., 0., 0., 0., 0., 0., 0., 0., 0., 0., 0., 0., 0., 0.,\n",
            "          0., 0., 0., 0., 0., 0.]],\n",
            "\n",
            "        [[1., 0., 0., 0., 0., 0., 0., 0., 0., 0., 0., 0., 0., 0., 0., 0., 0.,\n",
            "          0., 0., 0., 0., 0., 0., 0., 0., 0., 0., 0., 0., 0., 0., 0., 0., 0.,\n",
            "          0., 0., 0., 0., 0., 0., 0., 0., 0., 0., 0., 0., 0., 0., 0., 0., 0.,\n",
            "          0., 0., 0., 0., 0., 0.]]], device='cuda:0'), 'Spanish', 'Abana')\n"
          ]
        }
      ]
    },
    {
      "cell_type": "markdown",
      "source": [
        "# Create Train/Test Split"
      ],
      "metadata": {
        "id": "ktZ3C2ASVldu"
      }
    },
    {
      "cell_type": "code",
      "source": [
        "train_set, test_set = torch.utils.data.random_split(alldata, [.85, .15],\n",
        "                                                    generator=torch.Generator(device=device).manual_seed(2024))"
      ],
      "metadata": {
        "id": "0t-aGsPdVnTk"
      },
      "execution_count": 15,
      "outputs": []
    },
    {
      "cell_type": "code",
      "source": [
        "print(f\"train examples = {len(train_set)}, validation examples = {len(test_set)}\")"
      ],
      "metadata": {
        "colab": {
          "base_uri": "https://localhost:8080/"
        },
        "id": "XLjMMP-YV_5_",
        "outputId": "dfa10ab3-f18e-432e-9493-288d23fd1277"
      },
      "execution_count": 16,
      "outputs": [
        {
          "output_type": "stream",
          "name": "stdout",
          "text": [
            "train examples = 17063, validation examples = 3011\n"
          ]
        }
      ]
    },
    {
      "cell_type": "markdown",
      "source": [
        "# Create the Network"
      ],
      "metadata": {
        "id": "me4MMn-AWpJb"
      }
    },
    {
      "cell_type": "code",
      "source": [
        "class CharRNN(nn.Module):\n",
        "  def __init__(self, input_size, hidden_size, output_size):\n",
        "    super(CharRNN, self).__init__()\n",
        "\n",
        "    self.rnn = nn.RNN(input_size, hidden_size)\n",
        "    self.h2o = nn.Linear(hidden_size, output_size)\n",
        "    self.softmax = nn.LogSoftmax(dim=1)\n",
        "\n",
        "  def forward(self, line_tensor):\n",
        "    rnn_out, hidden = self.rnn(line_tensor)\n",
        "    raw_scores = self.h2o(hidden[0])\n",
        "    output = self.softmax(raw_scores)\n",
        "\n",
        "    return output\n"
      ],
      "metadata": {
        "id": "vqSPwlajWo6X"
      },
      "execution_count": 18,
      "outputs": []
    },
    {
      "cell_type": "code",
      "source": [
        "n_hidden = 128\n",
        "rnn = CharRNN(n_letters, n_hidden, len(alldata.labels_uniq))\n",
        "print(rnn)"
      ],
      "metadata": {
        "colab": {
          "base_uri": "https://localhost:8080/"
        },
        "id": "ujZZMGcDi-x2",
        "outputId": "b4796fed-f1ac-4360-84e5-f4998bd7f193"
      },
      "execution_count": 19,
      "outputs": [
        {
          "output_type": "stream",
          "name": "stdout",
          "text": [
            "CharRNN(\n",
            "  (rnn): RNN(57, 128)\n",
            "  (h2o): Linear(in_features=128, out_features=18, bias=True)\n",
            "  (softmax): LogSoftmax(dim=1)\n",
            ")\n"
          ]
        }
      ]
    },
    {
      "cell_type": "code",
      "source": [
        "def label_from_output(output, output_labels):\n",
        "  top_n, top_i = output.topk(1)\n",
        "  label_i = top_i[0].item()\n",
        "  return output_labels[label_i], label_i"
      ],
      "metadata": {
        "id": "0R6MKQ4TjKv3"
      },
      "execution_count": 20,
      "outputs": []
    },
    {
      "cell_type": "code",
      "source": [
        "input = lineToTensor('Albert')\n",
        "output = rnn(input)\n",
        "\n",
        "print(output)\n",
        "print(label_from_output(output, alldata.labels_uniq))"
      ],
      "metadata": {
        "colab": {
          "base_uri": "https://localhost:8080/"
        },
        "id": "acJq-M4ijZV5",
        "outputId": "05c91698-b0df-4cf5-f971-d3cdaf4fd36e"
      },
      "execution_count": 21,
      "outputs": [
        {
          "output_type": "stream",
          "name": "stdout",
          "text": [
            "tensor([[-3.0213, -2.9852, -2.7950, -2.8568, -2.9933, -2.8095, -2.8159, -2.8866,\n",
            "         -2.8795, -2.8032, -2.9882, -2.8896, -2.9706, -2.8633, -2.7412, -3.0710,\n",
            "         -2.9166, -2.8119]], device='cuda:0', grad_fn=<LogSoftmaxBackward0>)\n",
            "('Vietnamese', 14)\n"
          ]
        }
      ]
    },
    {
      "cell_type": "markdown",
      "source": [
        "# Training"
      ],
      "metadata": {
        "id": "QtSGStwkkhhi"
      }
    },
    {
      "cell_type": "code",
      "source": [
        "import random\n",
        "import numpy as np"
      ],
      "metadata": {
        "id": "So0XPEqpkg7W"
      },
      "execution_count": 22,
      "outputs": []
    },
    {
      "cell_type": "code",
      "source": [
        "from logging import critical\n",
        "def train(model, training_data, n_epoch=10, batch_size=64, report_every=50, learning_rate =0.2, criterion = nn.NLLLoss()):\n",
        "  current_loss = 0\n",
        "  all_losses = []\n",
        "  rnn.train()\n",
        "  optimizer = torch.optim.SGD(rnn.parameters(), lr=learning_rate)\n",
        "\n",
        "  start = time.time()\n",
        "  print(f\"training on data set with n = {len(training_data)}\")\n",
        "\n",
        "  for iter in range(1, n_epoch+1):\n",
        "    rnn.zero_grad() # clear the gradients in each Epoch\n",
        "\n",
        "    # create minbatches\n",
        "    # unable to use dataloader because each of the names is of different len\n",
        "    batches = list(range(len(training_data)))\n",
        "    random.shuffle(batches)\n",
        "    batches = np.array_split(batches, len(batches) // batch_size)\n",
        "\n",
        "    for idx, batch in enumerate(batches):\n",
        "      batch_loss = 0\n",
        "      for i in batch: # for each example in this batch\n",
        "        (label_tensor, text_tensor, label, text ) = training_data[i]\n",
        "        output = rnn.forward(text_tensor)\n",
        "        loss = criterion(output, label_tensor)\n",
        "        batch_loss += loss\n",
        "\n",
        "      # optimize parameters\n",
        "      batch_loss.backward()\n",
        "      nn.utils.clip_grad_norm_(rnn.parameters(), 3)\n",
        "      optimizer.step()\n",
        "      optimizer.zero_grad()\n",
        "\n",
        "      current_loss += batch_loss.item() / len(batch)\n",
        "\n",
        "    all_losses.append(current_loss / len(batch))\n",
        "    if iter % report_every == 0:\n",
        "      print(f\"{iter} ({iter / n_epoch:.0%}): \\t average batch loss = {all_losses[-1]}\")\n",
        "    current_loss = 0\n",
        "\n",
        "  return all_losses\n"
      ],
      "metadata": {
        "id": "EW7cO2oIklS9"
      },
      "execution_count": 23,
      "outputs": []
    },
    {
      "cell_type": "code",
      "source": [
        "start = time.time()\n",
        "all_losses = train(rnn, train_set, n_epoch=27, learning_rate=0.15, report_every=5)\n",
        "end = time.time()\n",
        "run_time = end - start\n",
        "print(f'training took {run_time}s')"
      ],
      "metadata": {
        "colab": {
          "base_uri": "https://localhost:8080/"
        },
        "id": "c_q0_l_rmUJw",
        "outputId": "742db5f5-7b9a-46b7-e7c4-a485cbb77395"
      },
      "execution_count": 24,
      "outputs": [
        {
          "output_type": "stream",
          "name": "stdout",
          "text": [
            "training on data set with n = 17063\n",
            "5 (19%): \t average batch loss = 3.715391388062674\n",
            "10 (37%): \t average batch loss = 2.9118414249486078\n",
            "15 (56%): \t average batch loss = 2.4167320946267306\n",
            "20 (74%): \t average batch loss = 2.075124926324217\n",
            "25 (93%): \t average batch loss = 1.8244616646534548\n",
            "training took 493.29771971702576s\n"
          ]
        }
      ]
    },
    {
      "cell_type": "markdown",
      "source": [
        "# Plotting Results"
      ],
      "metadata": {
        "id": "Kn4KzZhwmyZV"
      }
    },
    {
      "cell_type": "code",
      "source": [
        "import matplotlib.pyplot as plt\n",
        "import matplotlib.ticker as ticker\n",
        "\n",
        "\n",
        "plt.figure()\n",
        "plt.plot(all_losses)\n",
        "plt.show()"
      ],
      "metadata": {
        "colab": {
          "base_uri": "https://localhost:8080/",
          "height": 430
        },
        "id": "iCexF-Ktmz9c",
        "outputId": "66c7e7dd-0f2b-44d5-fad1-edd9b663bdfe"
      },
      "execution_count": 25,
      "outputs": [
        {
          "output_type": "display_data",
          "data": {
            "text/plain": [
              "<Figure size 640x480 with 1 Axes>"
            ],
            "image/png": "[encoded data removed]"
          },
          "metadata": {}
        }
      ]
    },
    {
      "cell_type": "markdown",
      "source": [
        "# Evaluating the results"
      ],
      "metadata": {
        "id": "vJ0JVaInm-5b"
      }
    },
    {
      "cell_type": "code",
      "source": [
        "def evaluate(rnn, testing_data, classes):\n",
        "  confusion = torch.zeros(len(classes), len(classes))\n",
        "\n",
        "  rnn.eval() # set to eval mode\n",
        "  with torch.no_grad():\n",
        "    for i in range(len(testing_data)):\n",
        "      (label_tensor, text_tensor, label, text) = testing_data[i]\n",
        "      output = rnn(text_tensor)\n",
        "      guess, guess_i = label_from_output(output, classes)\n",
        "      label_i = classes.index(label)\n",
        "      confusion[label_i][guess_i] += 1\n",
        "\n",
        "  for i in range(len(classes)):\n",
        "    denom = confusion[i].sum()\n",
        "    if denom > 0:\n",
        "      confusion[i] = confusion[i]/denom\n",
        "\n",
        "\n",
        "\n",
        "  fig = plt.figure()\n",
        "  ax = fig.add_subplot(111)\n",
        "  cax = ax.matshow(confusion.cpu().numpy()) #numpy uses cpu here so we need to use a cpu version\n",
        "  fig.colorbar(cax)\n",
        "\n",
        "  # Set up axes\n",
        "  ax.set_xticks(np.arange(len(classes)), labels=classes, rotation=90)\n",
        "  ax.set_yticks(np.arange(len(classes)), labels=classes)\n",
        "\n",
        "  # Force label at every tick\n",
        "  ax.xaxis.set_major_locator(ticker.MultipleLocator(1))\n",
        "  ax.yaxis.set_major_locator(ticker.MultipleLocator(1))\n",
        "\n",
        "  # sphinx_gallery_thumbnail_number = 2\n",
        "  plt.show()\n",
        "\n",
        "evaluate(rnn, test_set, classes=alldata.labels_uniq)"
      ],
      "metadata": {
        "colab": {
          "base_uri": "https://localhost:8080/",
          "height": 506
        },
        "id": "F5Ag7D8znBAK",
        "outputId": "14a975e3-aa55-4430-d822-e9caf4422c73"
      },
      "execution_count": 26,
      "outputs": [
        {
          "output_type": "display_data",
          "data": {
            "text/plain": [
              "<Figure size 640x480 with 2 Axes>"
            ],
            "image/png": "[encoded data removed]"
          },
          "metadata": {}
        }
      ]
    }
  ]
}