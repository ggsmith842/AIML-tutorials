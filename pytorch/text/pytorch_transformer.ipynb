{
  "nbformat": 4,
  "nbformat_minor": 0,
  "metadata": {
    "colab": {
      "provenance": [],
      "gpuType": "T4",
      "authorship_tag": "ABX9TyNlnFRG49ev92nj1y4zr40V",
      "include_colab_link": true
    },
    "kernelspec": {
      "name": "python3",
      "display_name": "Python 3"
    },
    "language_info": {
      "name": "python"
    },
    "accelerator": "GPU"
  },
  "cells": [
    {
      "cell_type": "markdown",
      "metadata": {
        "id": "view-in-github",
        "colab_type": "text"
      },
      "source": [
        "<a href=\"https://colab.research.google.com/github/ggsmith842/AIML-tutorials/blob/main/pytorch/text/pytorch_transformer.ipynb\" target=\"_parent\"><img src=\"https://colab.research.google.com/assets/colab-badge.svg\" alt=\"Open In Colab\"/></a>"
      ]
    },
    {
      "cell_type": "code",
      "source": [
        "!pip install -Uq datasets"
      ],
      "metadata": {
        "id": "0bFxwFKiNX-1"
      },
      "execution_count": 1,
      "outputs": []
    },
    {
      "cell_type": "code",
      "execution_count": 2,
      "metadata": {
        "id": "Mfq1Nm0NKjEH"
      },
      "outputs": [],
      "source": [
        "import math\n",
        "import time\n",
        "\n",
        "import torch\n",
        "import torch.nn as nn\n",
        "import torch.nn.functional as F\n",
        "from torch.nn import TransformerEncoder, TransformerEncoderLayer\n",
        "from torch.utils.data import DataLoader\n",
        "from tqdm import tqdm"
      ]
    },
    {
      "cell_type": "code",
      "source": [
        "# use huggingface instead of torchtext (deprecated)\n",
        "from transformers import AutoTokenizer\n",
        "from datasets import load_dataset"
      ],
      "metadata": {
        "id": "wfgxZ90TE_hI"
      },
      "execution_count": 3,
      "outputs": []
    },
    {
      "cell_type": "code",
      "source": [
        "device = torch.device(\"cuda\" if torch.cuda.is_available() else \"cpu\")\n",
        "print(f'device: {device}')"
      ],
      "metadata": {
        "colab": {
          "base_uri": "https://localhost:8080/"
        },
        "id": "cq1V87STM96h",
        "outputId": "948077c1-2b31-45a8-e60f-a8559eb79bff"
      },
      "execution_count": 4,
      "outputs": [
        {
          "output_type": "stream",
          "name": "stdout",
          "text": [
            "device: cuda\n"
          ]
        }
      ]
    },
    {
      "cell_type": "markdown",
      "source": [
        "# Load and Preprocess Data"
      ],
      "metadata": {
        "id": "-gl-as03Ry9X"
      }
    },
    {
      "cell_type": "code",
      "source": [
        "# load wiki2 data\n",
        "ds = load_dataset(\"wikitext\", \"wikitext-2-raw-v1\")"
      ],
      "metadata": {
        "id": "584lu2KxLQfm"
      },
      "execution_count": null,
      "outputs": []
    },
    {
      "cell_type": "code",
      "source": [
        "ds['train']['text'][3]"
      ],
      "metadata": {
        "id": "jrW6olYBOMSb"
      },
      "execution_count": null,
      "outputs": []
    },
    {
      "cell_type": "code",
      "source": [
        "# initialize tokenizer\n",
        "tokenizer = AutoTokenizer.from_pretrained(\"gpt2\")\n",
        "tokenizer.pad_token = tokenizer.eos_token"
      ],
      "metadata": {
        "id": "f2zLGavkFlZi"
      },
      "execution_count": null,
      "outputs": []
    },
    {
      "cell_type": "code",
      "source": [
        "tokenized_ds = ds.map(lambda x: tokenizer(x['text'], truncation=True, max_length=512), batched=True, remove_columns=['text'])"
      ],
      "metadata": {
        "id": "vgCWuJ0YMN-q"
      },
      "execution_count": null,
      "outputs": []
    },
    {
      "cell_type": "code",
      "source": [
        "# concatenate all texts and split into chunks\n",
        "# --- Group into Fixed Length Chunks ---\n",
        "max_seq_len = 64\n",
        "train_batch_size = 32\n",
        "eval_batch_size = 16\n",
        "\n",
        "\n",
        "def group_texts(examples):\n",
        "    # Concatenate all fields (like input_ids, attention_mask, etc.)\n",
        "    concatenated = {k: sum(examples[k], []) for k in examples.keys()}\n",
        "    total_length = (len(concatenated[\"input_ids\"]) // max_seq_len) * max_seq_len\n",
        "    result = {\n",
        "        k: [concatenated[k][i:i + max_seq_len] for i in range(0, total_length, max_seq_len)]\n",
        "        for k in concatenated.keys()\n",
        "    }\n",
        "    return result\n"
      ],
      "metadata": {
        "id": "Bae2eVf5R4g3"
      },
      "execution_count": 9,
      "outputs": []
    },
    {
      "cell_type": "code",
      "source": [
        "lm_ds = tokenized_ds.map(group_texts, batched=True)"
      ],
      "metadata": {
        "id": "rikXFJw4T_G7"
      },
      "execution_count": null,
      "outputs": []
    },
    {
      "cell_type": "code",
      "source": [
        "# dataloader prep\n",
        "def collate_fn(batch):\n",
        "  input_ids = torch.tensor([example['input_ids'] for example in batch])\n",
        "  x = input_ids[:, :-1]\n",
        "  y = input_ids[:, 1:]\n",
        "  return x.to(device), y.reshape(-1).to(device)"
      ],
      "metadata": {
        "id": "-252uvx6VBxo"
      },
      "execution_count": 11,
      "outputs": []
    },
    {
      "cell_type": "code",
      "source": [
        "train_loader = DataLoader(lm_ds[\"train\"], batch_size=train_batch_size, shuffle=True, collate_fn=collate_fn)\n",
        "val_loader = DataLoader(lm_ds[\"validation\"], batch_size=eval_batch_size, shuffle=False, collate_fn=collate_fn)"
      ],
      "metadata": {
        "id": "z48OQyQaVIVt"
      },
      "execution_count": 12,
      "outputs": []
    },
    {
      "cell_type": "markdown",
      "source": [
        "# Build Model"
      ],
      "metadata": {
        "id": "To3uVFUiRuWb"
      }
    },
    {
      "cell_type": "code",
      "source": [
        "# --- Define Transformer Model ---\n",
        "class TransformerLM(nn.Module):\n",
        "    def __init__(self, vocab_size, d_model=512, nhead=8, num_layers=6):\n",
        "        super().__init__()\n",
        "        self.embedding = nn.Embedding(vocab_size, d_model)\n",
        "        self.pos_embedding = nn.Parameter(torch.zeros(1, max_seq_len - 1, d_model))\n",
        "        encoder_layer = nn.TransformerEncoderLayer(d_model, nhead)\n",
        "        self.transformer = nn.TransformerEncoder(encoder_layer, num_layers)\n",
        "        self.fc_out = nn.Linear(d_model, vocab_size)\n",
        "\n",
        "    def forward(self, x):\n",
        "        x = self.embedding(x) + self.pos_embedding[:, :x.size(1)]\n",
        "        x = self.transformer(x)\n",
        "        return self.fc_out(x)"
      ],
      "metadata": {
        "id": "5Bfrz5wLGrv6"
      },
      "execution_count": 13,
      "outputs": []
    },
    {
      "cell_type": "code",
      "source": [
        "# --- Train ---\n",
        "model = TransformerLM(vocab_size=tokenizer.vocab_size).to(device)\n",
        "criterion = nn.CrossEntropyLoss()\n",
        "optimizer = torch.optim.AdamW(model.parameters(), lr=1e-4)"
      ],
      "metadata": {
        "colab": {
          "base_uri": "https://localhost:8080/"
        },
        "id": "r3-OBFjyVioz",
        "outputId": "e44c293d-1959-4643-c86f-8e537508cae3"
      },
      "execution_count": 14,
      "outputs": [
        {
          "output_type": "stream",
          "name": "stderr",
          "text": [
            "/usr/local/lib/python3.11/dist-packages/torch/nn/modules/transformer.py:385: UserWarning: enable_nested_tensor is True, but self.use_nested_tensor is False because encoder_layer.self_attn.batch_first was not True(use batch_first for better inference performance)\n",
            "  warnings.warn(\n"
          ]
        }
      ]
    },
    {
      "cell_type": "code",
      "source": [
        "for epoch in range(3):\n",
        "    model.train()\n",
        "    total_loss = 0\n",
        "    for x, y in tqdm(train_loader):\n",
        "        optimizer.zero_grad()\n",
        "        logits = model(x)\n",
        "        loss = criterion(logits.view(-1, logits.size(-1)), y)\n",
        "        loss.backward()\n",
        "        optimizer.step()\n",
        "        total_loss += loss.item()\n",
        "    print(f\"Epoch {epoch + 1}, Train Loss: {total_loss / len(train_loader):.4f}\")\n"
      ],
      "metadata": {
        "colab": {
          "base_uri": "https://localhost:8080/"
        },
        "id": "5zhX2i0HWf_O",
        "outputId": "15d6cedb-6e3d-48d3-8c5d-dc497573294a"
      },
      "execution_count": 15,
      "outputs": [
        {
          "output_type": "stream",
          "name": "stdout",
          "text": [
            "Epoch 1, Train Loss: 6.6516\n",
            "Epoch 2, Train Loss: 5.9156\n",
            "Epoch 3, Train Loss: 5.6366\n"
          ]
        }
      ]
    },
    {
      "cell_type": "code",
      "source": [
        "    model.eval()\n",
        "    val_loss = 0\n",
        "    with torch.no_grad():\n",
        "        for x, y in tqdm(val_loader):\n",
        "            logits = model(x)\n",
        "            loss = criterion(logits.view(-1, logits.size(-1)), y)\n",
        "            val_loss += loss.item()\n",
        "    print(f\"\\nVal Loss: {val_loss / len(val_loader):.4f}\")\n"
      ],
      "metadata": {
        "colab": {
          "base_uri": "https://localhost:8080/"
        },
        "id": "73dcplZcWp4Q",
        "outputId": "263ac546-b97b-403e-e9e0-f7c69364e468"
      },
      "execution_count": 20,
      "outputs": [
        {
          "output_type": "stream",
          "name": "stderr",
          "text": [
            "100%|██████████| 242/242 [00:07<00:00, 33.49it/s]"
          ]
        },
        {
          "output_type": "stream",
          "name": "stdout",
          "text": [
            "\n",
            "Epoch 3, Val Loss: 5.9884\n"
          ]
        },
        {
          "output_type": "stream",
          "name": "stderr",
          "text": [
            "\n"
          ]
        }
      ]
    }
  ]
}