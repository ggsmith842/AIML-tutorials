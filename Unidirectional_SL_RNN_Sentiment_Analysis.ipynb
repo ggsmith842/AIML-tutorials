{
  "nbformat": 4,
  "nbformat_minor": 0,
  "metadata": {
    "colab": {
      "provenance": [],
      "gpuType": "T4",
      "authorship_tag": "ABX9TyPAteZfg2j5coQk8DNKBFQt",
      "include_colab_link": true
    },
    "kernelspec": {
      "name": "python3",
      "display_name": "Python 3"
    },
    "language_info": {
      "name": "python"
    },
    "accelerator": "GPU"
  },
  "cells": [
    {
      "cell_type": "markdown",
      "metadata": {
        "id": "view-in-github",
        "colab_type": "text"
      },
      "source": [
        "<a href=\"https://colab.research.google.com/github/ggsmith842/pytorch-tutorials/blob/main/Unidirectional_SL_RNN_Sentiment_Analysis.ipynb\" target=\"_parent\"><img src=\"https://colab.research.google.com/assets/colab-badge.svg\" alt=\"Open In Colab\"/></a>"
      ]
    },
    {
      "cell_type": "code",
      "source": [
        "%pip install -Uq datasets huggingface_hub fsspec"
      ],
      "metadata": {
        "id": "kmLxRwpuG0uY"
      },
      "execution_count": null,
      "outputs": []
    },
    {
      "cell_type": "code",
      "execution_count": null,
      "metadata": {
        "id": "pwrWB5UtwLCT"
      },
      "outputs": [],
      "source": [
        "import os\n",
        "import time\n",
        "import nltk\n",
        "import torch\n",
        "import torch.nn as nn\n",
        "import torch.optim as optim\n",
        "\n",
        "import numpy as np\n",
        "import matplotlib.pyplot as plt\n",
        "\n",
        "\n",
        "from tqdm import tqdm\n",
        "from string import punctuation\n",
        "from collections import Counter\n",
        "from nltk.corpus import stopwords\n",
        "from datasets import load_dataset, concatenate_datasets\n",
        "from torch.utils.data import DataLoader, TensorDataset"
      ]
    },
    {
      "cell_type": "code",
      "source": [
        "nltk.download('stopwords')"
      ],
      "metadata": {
        "id": "6FTSMLJIgSba"
      },
      "execution_count": null,
      "outputs": []
    },
    {
      "cell_type": "code",
      "source": [
        "device = torch.device('cuda' if torch.cuda.is_available() else 'cpu')\n",
        "print(device)"
      ],
      "metadata": {
        "colab": {
          "base_uri": "https://localhost:8080/"
        },
        "id": "X9mf7swdGKy1",
        "outputId": "41365467-986d-4121-a155-a4bb673604f8"
      },
      "execution_count": null,
      "outputs": [
        {
          "output_type": "stream",
          "name": "stdout",
          "text": [
            "cuda\n"
          ]
        }
      ]
    },
    {
      "cell_type": "code",
      "source": [
        "# load imdb dataset from huggingface\n",
        "ds = load_dataset(\"stanfordnlp/imdb\")"
      ],
      "metadata": {
        "id": "rGXdjDxSHGNp"
      },
      "execution_count": null,
      "outputs": []
    },
    {
      "cell_type": "code",
      "source": [
        "merged_dataset = concatenate_datasets([ds['train'], ds['test']])\n",
        "split_dataset = merged_dataset.train_test_split(test_size=0.25, shuffle=True, seed=42)\n",
        "\n",
        "train = split_dataset['train']\n",
        "test = split_dataset['test']"
      ],
      "metadata": {
        "id": "iY555jMIFqq1"
      },
      "execution_count": null,
      "outputs": []
    },
    {
      "cell_type": "code",
      "source": [
        "# pre-process text reviews\n",
        "def build_vocab(text):\n",
        "  # apply lowercase to all text\n",
        "  stop_words = set(stopwords.words('english'))\n",
        "  lowercase_text = [review.lower() for review in text]\n",
        "  # remove punctuation\n",
        "  nopunc_text = [''.join([letter for letter in review if letter not in punctuation]) for review in lowercase_text]\n",
        "  cleaned_text = [' '.join(word for word in review.split() if word not in stop_words) for review in nopunc_text]\n",
        "  reviews_blob =' '.join(cleaned_text)\n",
        "\n",
        "  word_count = Counter(reviews_blob.split()).most_common()\n",
        "  print(f'Top 10 words:\\n{word_count[:10]}')\n",
        "\n",
        "  # create word to integer token dictionary\n",
        "  # to encode text as numbers\n",
        "  vocab = {word:idx+1 for idx, (word, count) in enumerate(word_count)}\n",
        "\n",
        "  return (cleaned_text, vocab)\n"
      ],
      "metadata": {
        "id": "_6m624e9lAJi"
      },
      "execution_count": null,
      "outputs": []
    },
    {
      "cell_type": "code",
      "source": [
        "def tokenize(cleaned_text, vocab):\n",
        "  review_tokens = []\n",
        "  for review in cleaned_text:\n",
        "    word_tokens = [vocab[word] for word in review.split()]\n",
        "    review_tokens.append(word_tokens)\n",
        "  return review_tokens"
      ],
      "metadata": {
        "id": "DHRU_kf3mRRk"
      },
      "execution_count": null,
      "outputs": []
    },
    {
      "cell_type": "code",
      "source": [
        "# pad sequence\n",
        "def pad_sequence(review_tokens, seq_len):\n",
        "  padded_reviews = np.zeros((len(review_tokens), seq_len), dtype=int)\n",
        "\n",
        "  for idx, review in enumerate(review_tokens):\n",
        "    review_len = len(review)\n",
        "    if review_len <= seq_len:\n",
        "      zeros = list(np.zeros(\n",
        "          seq_len - review_len\n",
        "      ))\n",
        "      new_seq = zeros + review\n",
        "    elif review_len > seq_len:\n",
        "      new_seq = review[0:seq_len]\n",
        "\n",
        "    padded_reviews[idx,:] = np.array(new_seq)\n",
        "  return padded_reviews"
      ],
      "metadata": {
        "id": "bQfRwBpdkVlf"
      },
      "execution_count": null,
      "outputs": []
    },
    {
      "cell_type": "code",
      "source": [
        "train_clean_text, train_vocab = build_vocab(train['text'])\n",
        "train_tokens = tokenize(train_clean_text, train_vocab)"
      ],
      "metadata": {
        "colab": {
          "base_uri": "https://localhost:8080/"
        },
        "id": "6eRE3HMiwVyS",
        "outputId": "a58113a0-58b0-476e-9b56-0a00307805e5"
      },
      "execution_count": null,
      "outputs": [
        {
          "output_type": "stream",
          "name": "stdout",
          "text": [
            "Top 10 words:\n",
            "[('br', 85431), ('movie', 62475), ('film', 55885), ('one', 38167), ('like', 29155), ('good', 21418), ('even', 18351), ('would', 17996), ('time', 17440), ('really', 17239)]\n"
          ]
        }
      ]
    },
    {
      "cell_type": "code",
      "source": [
        "print(train_clean_text[0])\n",
        "print(train_tokens[0])"
      ],
      "metadata": {
        "colab": {
          "base_uri": "https://localhost:8080/"
        },
        "id": "pQjle3e4wUik",
        "outputId": "8e97f17c-09ed-49d5-f7c5-6205f2f2d540"
      },
      "execution_count": null,
      "outputs": [
        {
          "output_type": "stream",
          "name": "stdout",
          "text": [
            "movie one boring horror movies seen long time seen lot personally liked piercing take original pretty unwatchable could stand dee snider actor singer seemed trying everything said make memorable quote werent get movies free still didnt think worth time get\n",
            "[2, 4, 239, 98, 25, 32, 102, 9, 32, 75, 1146, 304, 11154, 94, 112, 86, 4002, 26, 758, 4751, 13817, 191, 1817, 337, 154, 158, 198, 24, 749, 3092, 1020, 15, 25, 836, 46, 60, 29, 166, 9, 15]\n"
          ]
        }
      ]
    },
    {
      "cell_type": "code",
      "source": [
        "padded_reviews = pad_sequence(train_tokens, seq_len=512)\n",
        "plt.hist([len(review) for review in train_tokens])"
      ],
      "metadata": {
        "colab": {
          "base_uri": "https://localhost:8080/",
          "height": 521
        },
        "id": "nd25_qVJoucN",
        "outputId": "5fd80ac8-5f49-4442-bf8d-a5d713ce2488"
      },
      "execution_count": null,
      "outputs": [
        {
          "output_type": "execute_result",
          "data": {
            "text/plain": [
              "(array([2.8032e+04, 7.1410e+03, 1.7150e+03, 5.7900e+02, 2.3000e+01,\n",
              "        4.0000e+00, 3.0000e+00, 1.0000e+00, 1.0000e+00, 1.0000e+00]),\n",
              " array([   4. ,  148.5,  293. ,  437.5,  582. ,  726.5,  871. , 1015.5,\n",
              "        1160. , 1304.5, 1449. ]),\n",
              " <BarContainer object of 10 artists>)"
            ]
          },
          "metadata": {},
          "execution_count": 12
        },
        {
          "output_type": "display_data",
          "data": {
            "text/plain": [
              "<Figure size 640x480 with 1 Axes>"
            ],
            "image/png": "[encoded data removed]"
          },
          "metadata": {}
        }
      ]
    },
    {
      "cell_type": "code",
      "source": [
        "# preprocess test set\n",
        "test_clean_text, test_vocab = build_vocab(test['text'])\n",
        "test_tokens = tokenize(test_clean_text, test_vocab)\n",
        "test_padded_reviews = pad_sequence(test_tokens, seq_len=512)\n",
        "plt.hist([len(review) for review in test_tokens])"
      ],
      "metadata": {
        "colab": {
          "base_uri": "https://localhost:8080/",
          "height": 558
        },
        "id": "Pdgcdnqczwzs",
        "outputId": "dd31da15-fb05-4cf9-bd19-7a063d2e45ea"
      },
      "execution_count": null,
      "outputs": [
        {
          "output_type": "stream",
          "name": "stdout",
          "text": [
            "Top 10 words:\n",
            "[('br', 28363), ('movie', 21035), ('film', 18568), ('one', 12857), ('like', 9834), ('good', 7151), ('even', 6221), ('would', 6028), ('time', 5817), ('really', 5709)]\n"
          ]
        },
        {
          "output_type": "execute_result",
          "data": {
            "text/plain": [
              "(array([8.133e+03, 2.997e+03, 8.960e+02, 3.270e+02, 1.350e+02, 8.000e+00,\n",
              "        1.000e+00, 1.000e+00, 1.000e+00, 1.000e+00]),\n",
              " array([   3. ,  118.2,  233.4,  348.6,  463.8,  579. ,  694.2,  809.4,\n",
              "         924.6, 1039.8, 1155. ]),\n",
              " <BarContainer object of 10 artists>)"
            ]
          },
          "metadata": {},
          "execution_count": 13
        },
        {
          "output_type": "display_data",
          "data": {
            "text/plain": [
              "<Figure size 640x480 with 1 Axes>"
            ],
            "image/png": "[encoded data removed]"
          },
          "metadata": {}
        }
      ]
    },
    {
      "cell_type": "markdown",
      "source": [
        "## Train & Validation Loader"
      ],
      "metadata": {
        "id": "7UpX-yelrHvs"
      }
    },
    {
      "cell_type": "code",
      "source": [
        "# create custom datasets\n",
        "train_dataset = TensorDataset(\n",
        "    torch.from_numpy(padded_reviews).to(device),\n",
        "    torch.from_numpy(np.array(train['label'])).float().to(device)\n",
        ")\n",
        "\n",
        "test_dataset = TensorDataset(\n",
        "      torch.from_numpy(test_padded_reviews).to(device),\n",
        "    torch.from_numpy(np.array(test['label'])).float().to(device)\n",
        ")\n"
      ],
      "metadata": {
        "id": "uDqyZmicrLy7"
      },
      "execution_count": null,
      "outputs": []
    },
    {
      "cell_type": "code",
      "source": [
        "# create dataloaders\n",
        "train_dataloader = DataLoader(\n",
        "    train_dataset,\n",
        "    batch_size = 32,\n",
        "    shuffle = True\n",
        ")\n",
        "\n",
        "test_dataloader = DataLoader(\n",
        "    test_dataset,\n",
        "    batch_size = 32,\n",
        "    shuffle = True\n",
        ")"
      ],
      "metadata": {
        "id": "lFHI5kSK1Flr"
      },
      "execution_count": null,
      "outputs": []
    },
    {
      "cell_type": "code",
      "source": [
        "train_data_features, train_labels = next(iter(train_dataloader))\n",
        "print(f'Example Input Size: {train_data_features.size()}')\n",
        "print(f'Example Input:\\n {train_data_features}\\n')\n",
        "\n",
        "print(f'Example Output Size: {train_labels.size()}')\n",
        "print(f'Example Output:\\n {train_labels}')"
      ],
      "metadata": {
        "colab": {
          "base_uri": "https://localhost:8080/"
        },
        "id": "yS_fLilG4FV-",
        "outputId": "07d052bc-94ce-4204-fc97-a0d23d4bdc9d"
      },
      "execution_count": null,
      "outputs": [
        {
          "output_type": "stream",
          "name": "stdout",
          "text": [
            "Example Input Size: torch.Size([32, 512])\n",
            "Example Input:\n",
            " tensor([[     0,      0,      0,  ...,   5337,    277,   1313],\n",
            "        [     0,      0,      0,  ...,  69300, 132544,      1],\n",
            "        [     0,      0,      0,  ...,   2904,   3305,    529],\n",
            "        ...,\n",
            "        [     0,      0,      0,  ...,     18,      4,    257],\n",
            "        [     0,      0,      0,  ...,   1091,      4,    546],\n",
            "        [     0,      0,      0,  ...,    145,     11,      2]],\n",
            "       device='cuda:0')\n",
            "\n",
            "Example Output Size: torch.Size([32])\n",
            "Example Output:\n",
            " tensor([0., 1., 1., 0., 0., 1., 0., 1., 0., 1., 1., 1., 1., 0., 1., 0., 1., 1.,\n",
            "        1., 1., 1., 0., 0., 1., 1., 0., 0., 1., 1., 0., 0., 0.],\n",
            "       device='cuda:0')\n"
          ]
        }
      ]
    },
    {
      "cell_type": "markdown",
      "source": [
        "# Model Instantiation and Training"
      ],
      "metadata": {
        "id": "GYZGh6ev4pMd"
      }
    },
    {
      "cell_type": "code",
      "source": [
        "class RNN(nn.Module):\n",
        "  def __init__(self, input_dim, embedding_dim, hidden_dim, output_dim):\n",
        "    super().__init__()\n",
        "\n",
        "    self.embedding_layer = nn.Embedding(input_dim, embedding_dim)\n",
        "    self.rnn_layer = nn.RNN(embedding_dim, hidden_dim, num_layers=1)\n",
        "    self.fc_layer = nn.Linear(hidden_dim, output_dim)\n",
        "\n",
        "  def forward(self, sequence):\n",
        "\n",
        "    # seq shape = seq_len, batch_size\n",
        "    embedding = self.embedding_layer(sequence)\n",
        "    output, hidden_state = self.rnn_layer(embedding)\n",
        "\n",
        "    final_output =self.fc_layer(\n",
        "        hidden_state[-1,:,:].squeeze(0)\n",
        "    )\n",
        "\n",
        "    return final_output\n"
      ],
      "metadata": {
        "id": "jbpzf-mj5Ctp"
      },
      "execution_count": null,
      "outputs": []
    },
    {
      "cell_type": "code",
      "source": [
        "input_dim = len(train_vocab) + 1\n",
        "embedding_dim = 100\n",
        "hidden_dim = 32\n",
        "output_dim = 1"
      ],
      "metadata": {
        "id": "vJ-CD5kx6Gv8"
      },
      "execution_count": null,
      "outputs": []
    },
    {
      "cell_type": "code",
      "source": [
        "rnn_model = RNN(input_dim, embedding_dim, hidden_dim, output_dim)\n",
        "optimizer = optim.Adam(rnn_model.parameters())\n",
        "loss_func = nn.BCEWithLogitsLoss()\n",
        "rnn_model = rnn_model.to(device)\n",
        "loss_func = loss_func.to(device)"
      ],
      "metadata": {
        "id": "0FUaHHk76Sdq"
      },
      "execution_count": null,
      "outputs": []
    },
    {
      "cell_type": "code",
      "source": [
        "def accuracy_metric(predictions, labels):\n",
        "  \"\"\"Returns 0-1 accuracy for the given set of predictions and labels\"\"\"\n",
        "  rounded_predictions = torch.round(torch.sigmoid(predictions))\n",
        "  success = (rounded_predictions == labels).float()\n",
        "  return success.sum() / len(success)"
      ],
      "metadata": {
        "id": "PNkkaeF86uWE"
      },
      "execution_count": null,
      "outputs": []
    },
    {
      "cell_type": "code",
      "source": [
        "def training_loop(model, dataloader, optim, loss_func):\n",
        "  loss = 0\n",
        "  accuracy = 0\n",
        "  model.train()\n",
        "\n",
        "  for seq, sentiment in tqdm(dataloader):\n",
        "    optim.zero_grad()\n",
        "    predictions = model(seq.T).squeeze()\n",
        "    loss_curr = loss_func(predictions,sentiment)\n",
        "    accuracy_curr = accuracy_metric(predictions, sentiment)\n",
        "    loss_curr.backward()\n",
        "    optim.step()\n",
        "    loss += loss_curr.item()\n",
        "    accuracy += accuracy_curr.item()\n",
        "  return loss/len(dataloader), accuracy/len(dataloader)\n",
        "\n",
        "def validate(model, dataloader, loss_func):\n",
        "  loss = 0\n",
        "  accuracy = 0\n",
        "  model.eval()\n",
        "  with torch.no_grad():\n",
        "    for seq, sentiment in tqdm(dataloader):\n",
        "      predictions = model(seq.T).squeeze()\n",
        "      loss_curr = loss_func(predictions,sentiment)\n",
        "      accuracy_curr = accuracy_metric(predictions, sentiment)\n",
        "      loss += loss_curr.item()\n",
        "      accuracy += accuracy_curr.item()\n",
        "  return loss/len(dataloader), accuracy/len(dataloader)"
      ],
      "metadata": {
        "id": "sGUQJYz67WxM"
      },
      "execution_count": null,
      "outputs": []
    },
    {
      "cell_type": "code",
      "source": [
        "num_epochs = 10\n",
        "best_val_loss = float('inf')\n",
        "\n",
        "for epoch in range(num_epochs):\n",
        "  time_start = time.time()\n",
        "  training_loss, training_accuracy = training_loop(\n",
        "      rnn_model, train_dataloader, optimizer, loss_func)\n",
        "  validation_loss, validation_accuracy = validate(\n",
        "      rnn_model, test_dataloader, loss_func)\n",
        "\n",
        "  time_end = time.time()\n",
        "  time_delta = time_end - time_start\n",
        "\n",
        "  if validation_loss < best_val_loss:\n",
        "    best_val_loss = validation_loss\n",
        "    torch.save(rnn_model.state_dict(), 'rnn_model.pt')\n",
        "\n",
        "  print(f'epoch: {epoch+1} | time elapsed: {time_delta}s')\n",
        "  print(f'training loss: {training_loss:.3f} | training accuracy: {training_accuracy*100:.2f}%')\n",
        "  print(f'validation loss: {validation_loss:.3f} | validation accuracy: {validation_accuracy*100:.2f}%')"
      ],
      "metadata": {
        "colab": {
          "base_uri": "https://localhost:8080/"
        },
        "id": "5Wz49GTa8LEW",
        "outputId": "d6df4f0c-18ff-4633-bdb8-9b71f3775fbc"
      },
      "execution_count": null,
      "outputs": [
        {
          "output_type": "stream",
          "name": "stderr",
          "text": [
            "100%|██████████| 1172/1172 [00:09<00:00, 118.49it/s]\n",
            "100%|██████████| 391/391 [00:00<00:00, 949.48it/s]\n"
          ]
        },
        {
          "output_type": "stream",
          "name": "stdout",
          "text": [
            "epoch: 1 | time elapsed: 10.308605194091797s\n",
            "training loss: 0.605 | training accuracy: 66.18%\n",
            "validation loss: 0.890 | validation accuracy: 49.59%\n"
          ]
        },
        {
          "output_type": "stream",
          "name": "stderr",
          "text": [
            "100%|██████████| 1172/1172 [00:08<00:00, 131.38it/s]\n",
            "100%|██████████| 391/391 [00:00<00:00, 945.56it/s]\n"
          ]
        },
        {
          "output_type": "stream",
          "name": "stdout",
          "text": [
            "epoch: 2 | time elapsed: 9.342313051223755s\n",
            "training loss: 0.480 | training accuracy: 78.54%\n",
            "validation loss: 0.887 | validation accuracy: 50.50%\n"
          ]
        },
        {
          "output_type": "stream",
          "name": "stderr",
          "text": [
            "100%|██████████| 1172/1172 [00:09<00:00, 117.40it/s]\n",
            "100%|██████████| 391/391 [00:00<00:00, 960.32it/s]\n"
          ]
        },
        {
          "output_type": "stream",
          "name": "stdout",
          "text": [
            "epoch: 3 | time elapsed: 10.396275043487549s\n",
            "training loss: 0.407 | training accuracy: 82.98%\n",
            "validation loss: 0.905 | validation accuracy: 50.67%\n"
          ]
        },
        {
          "output_type": "stream",
          "name": "stderr",
          "text": [
            "100%|██████████| 1172/1172 [00:09<00:00, 128.27it/s]\n",
            "100%|██████████| 391/391 [00:00<00:00, 974.98it/s]\n"
          ]
        },
        {
          "output_type": "stream",
          "name": "stdout",
          "text": [
            "epoch: 4 | time elapsed: 9.543966054916382s\n",
            "training loss: 0.349 | training accuracy: 85.85%\n",
            "validation loss: 1.136 | validation accuracy: 50.14%\n"
          ]
        },
        {
          "output_type": "stream",
          "name": "stderr",
          "text": [
            "100%|██████████| 1172/1172 [00:09<00:00, 128.57it/s]\n",
            "100%|██████████| 391/391 [00:00<00:00, 979.24it/s]\n"
          ]
        },
        {
          "output_type": "stream",
          "name": "stdout",
          "text": [
            "epoch: 5 | time elapsed: 9.522449731826782s\n",
            "training loss: 0.281 | training accuracy: 89.31%\n",
            "validation loss: 1.225 | validation accuracy: 49.73%\n"
          ]
        },
        {
          "output_type": "stream",
          "name": "stderr",
          "text": [
            "100%|██████████| 1172/1172 [00:09<00:00, 128.41it/s]\n",
            "100%|██████████| 391/391 [00:00<00:00, 970.17it/s]\n"
          ]
        },
        {
          "output_type": "stream",
          "name": "stdout",
          "text": [
            "epoch: 6 | time elapsed: 9.536592483520508s\n",
            "training loss: 0.233 | training accuracy: 91.51%\n",
            "validation loss: 1.251 | validation accuracy: 49.38%\n"
          ]
        },
        {
          "output_type": "stream",
          "name": "stderr",
          "text": [
            "100%|██████████| 1172/1172 [00:08<00:00, 131.01it/s]\n",
            "100%|██████████| 391/391 [00:00<00:00, 827.92it/s]\n"
          ]
        },
        {
          "output_type": "stream",
          "name": "stdout",
          "text": [
            "epoch: 7 | time elapsed: 9.423774480819702s\n",
            "training loss: 0.245 | training accuracy: 90.52%\n",
            "validation loss: 1.433 | validation accuracy: 50.52%\n"
          ]
        },
        {
          "output_type": "stream",
          "name": "stderr",
          "text": [
            "100%|██████████| 1172/1172 [00:09<00:00, 128.31it/s]\n",
            "100%|██████████| 391/391 [00:00<00:00, 928.56it/s]\n"
          ]
        },
        {
          "output_type": "stream",
          "name": "stdout",
          "text": [
            "epoch: 8 | time elapsed: 9.56144118309021s\n",
            "training loss: 0.168 | training accuracy: 94.34%\n",
            "validation loss: 1.395 | validation accuracy: 50.31%\n"
          ]
        },
        {
          "output_type": "stream",
          "name": "stderr",
          "text": [
            "100%|██████████| 1172/1172 [00:09<00:00, 127.69it/s]\n",
            "100%|██████████| 391/391 [00:00<00:00, 980.57it/s]\n"
          ]
        },
        {
          "output_type": "stream",
          "name": "stdout",
          "text": [
            "epoch: 9 | time elapsed: 9.584076881408691s\n",
            "training loss: 0.150 | training accuracy: 94.93%\n",
            "validation loss: 1.620 | validation accuracy: 50.38%\n"
          ]
        },
        {
          "output_type": "stream",
          "name": "stderr",
          "text": [
            "100%|██████████| 1172/1172 [00:09<00:00, 128.20it/s]\n",
            "100%|██████████| 391/391 [00:00<00:00, 938.64it/s]"
          ]
        },
        {
          "output_type": "stream",
          "name": "stdout",
          "text": [
            "epoch: 10 | time elapsed: 9.564648151397705s\n",
            "training loss: 0.118 | training accuracy: 96.25%\n",
            "validation loss: 1.804 | validation accuracy: 50.66%\n"
          ]
        },
        {
          "output_type": "stream",
          "name": "stderr",
          "text": [
            "\n"
          ]
        }
      ]
    }
  ]
}